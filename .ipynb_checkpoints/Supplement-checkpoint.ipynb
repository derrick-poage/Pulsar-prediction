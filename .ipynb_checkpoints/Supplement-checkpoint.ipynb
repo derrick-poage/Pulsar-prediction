{
 "cells": [
  {
   "cell_type": "code",
   "execution_count": 4,
   "id": "0cd96e81",
   "metadata": {},
   "outputs": [],
   "source": [
    "from tabulate import tabulate"
   ]
  },
  {
   "cell_type": "code",
   "execution_count": null,
   "id": "dcdd6fc6",
   "metadata": {},
   "outputs": [],
   "source": []
  },
  {
   "cell_type": "markdown",
   "id": "1e73b7f0",
   "metadata": {},
   "source": [
    "This is the table for column names. "
   ]
  },
  {
   "cell_type": "code",
   "execution_count": 21,
   "id": "e46e0e44",
   "metadata": {},
   "outputs": [],
   "source": [
    "pulsar_column = [['Abbreviation', 'Meaning'],['Mean IP', 'Mean of the Integrated Profile'], ['SD IP', 'Standard Deviation of the Integrated Profile'], ['EK IP', 'Excess Kurtosis of the Integrated Profile'], ['SK IP', 'Skewness of the Integrated Profile'], ['Mean DM-SNR', 'Mean of the DM-SNR Curve'], ['SD DM-SNR', 'Standard Deviation of the DM-SNR Curve'], ['EK DM-SNR', 'Excess Kurtosis of the DM-SNR Curve'], ['SK DM-SNR', 'Skewness of the DM-SNR Curve'], ['Class', 'Classification - 0 or 1']]"
   ]
  },
  {
   "cell_type": "code",
   "execution_count": 23,
   "id": "84a3b550",
   "metadata": {},
   "outputs": [],
   "source": [
    "column_table = (tabulate(pulsar_column, headers='firstrow', tablefmt='fancy_grid'))"
   ]
  },
  {
   "cell_type": "code",
   "execution_count": 25,
   "id": "3aa61ab3",
   "metadata": {},
   "outputs": [
    {
     "name": "stdout",
     "output_type": "stream",
     "text": [
      "╒════════════════╤══════════════════════════════════════════════╕\n",
      "│ Abbreviation   │ Meaning                                      │\n",
      "╞════════════════╪══════════════════════════════════════════════╡\n",
      "│ Mean IP        │ Mean of the Integrated Profile               │\n",
      "├────────────────┼──────────────────────────────────────────────┤\n",
      "│ SD IP          │ Standard Deviation of the Integrated Profile │\n",
      "├────────────────┼──────────────────────────────────────────────┤\n",
      "│ EK IP          │ Excess Kurtosis of the Integrated Profile    │\n",
      "├────────────────┼──────────────────────────────────────────────┤\n",
      "│ SK IP          │ Skewness of the Integrated Profile           │\n",
      "├────────────────┼──────────────────────────────────────────────┤\n",
      "│ Mean DM-SNR    │ Mean of the DM-SNR Curve                     │\n",
      "├────────────────┼──────────────────────────────────────────────┤\n",
      "│ SD DM-SNR      │ Standard Deviation of the DM-SNR Curve       │\n",
      "├────────────────┼──────────────────────────────────────────────┤\n",
      "│ EK DM-SNR      │ Excess Kurtosis of the DM-SNR Curve          │\n",
      "├────────────────┼──────────────────────────────────────────────┤\n",
      "│ SK DM-SNR      │ Skewness of the DM-SNR Curve                 │\n",
      "├────────────────┼──────────────────────────────────────────────┤\n",
      "│ Class          │ Classification - 0 or 1                      │\n",
      "╘════════════════╧══════════════════════════════════════════════╛\n"
     ]
    }
   ],
   "source": [
    "print(column_table)"
   ]
  },
  {
   "cell_type": "code",
   "execution_count": 30,
   "id": "c590583e",
   "metadata": {},
   "outputs": [],
   "source": []
  },
  {
   "cell_type": "code",
   "execution_count": null,
   "id": "98a4c1cd",
   "metadata": {},
   "outputs": [],
   "source": []
  }
 ],
 "metadata": {
  "kernelspec": {
   "display_name": "Python 3",
   "language": "python",
   "name": "python3"
  },
  "language_info": {
   "codemirror_mode": {
    "name": "ipython",
    "version": 3
   },
   "file_extension": ".py",
   "mimetype": "text/x-python",
   "name": "python",
   "nbconvert_exporter": "python",
   "pygments_lexer": "ipython3",
   "version": "3.9.5"
  }
 },
 "nbformat": 4,
 "nbformat_minor": 5
}
