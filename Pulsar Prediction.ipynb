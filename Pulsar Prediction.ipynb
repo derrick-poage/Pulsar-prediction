{
 "cells": [
  {
   "cell_type": "markdown",
   "id": "a919fd34",
   "metadata": {},
   "source": [
    "# Pulsar Prediction Data Wrangling and Visualization"
   ]
  },
  {
   "cell_type": "markdown",
   "id": "6b1e42f5",
   "metadata": {},
   "source": [
    "# Import Necessary Packages"
   ]
  },
  {
   "cell_type": "code",
   "execution_count": 323,
   "id": "7c2e2586",
   "metadata": {},
   "outputs": [],
   "source": [
    "import pandas as pd\n",
    "import numpy as np\n",
    "import seaborn as sns\n",
    "import matplotlib.pyplot as plt\n",
    "%matplotlib inline\n",
    "import statsmodels.api as sm\n",
    "\n",
    "# For Evaluations and Random Forest\n",
    "from sklearn.linear_model import LogisticRegression\n",
    "from sklearn.model_selection import train_test_split\n",
    "from sklearn import metrics\n",
    "from sklearn.model_selection import KFold\n",
    "from sklearn.model_selection import cross_val_score\n",
    "from sklearn import model_selection\n",
    "from sklearn.tree import DecisionTreeClassifier\n",
    "from sklearn.ensemble import RandomForestClassifier\n",
    "from sklearn.metrics import classification_report, confusion_matrix\n",
    "from sklearn.model_selection import RandomizedSearchCV\n",
    "from sklearn.metrics import accuracy_score\n",
    "from tabulate import tabulate\n",
    "import scikitplot as skplt\n",
    "\n",
    "# For Displaying Images\n",
    "from IPython.display import Image\n",
    "\n",
    "# For TensorFlow (Later)\n",
    "#import tensorflow as tf"
   ]
  },
  {
   "cell_type": "markdown",
   "id": "252cf693",
   "metadata": {},
   "source": [
    "# Import Data Sets\n",
    "\n",
    "The [pulsar_train](https://www.kaggle.com/colearninglounge/predicting-pulsar-starintermediate), [pulsar_test](https://www.kaggle.com/colearninglounge/predicting-pulsar-starintermediate), and [pulsar](https://www.kaggle.com/brsdincer/pulsar-classification-for-class-prediction) datasets came from Kaggle. "
   ]
  },
  {
   "cell_type": "code",
   "execution_count": 324,
   "id": "73bcf57d",
   "metadata": {},
   "outputs": [],
   "source": [
    "pulsar_train = pd.read_csv(\"Data/pulsar_data_train.csv\")\n",
    "pulsar_test = pd.read_csv(\"Data/pulsar_data_test.csv\")\n",
    "pulsar = pd.read_csv(\"Data/pulsar.csv\")"
   ]
  },
  {
   "cell_type": "markdown",
   "id": "ad876fd9",
   "metadata": {},
   "source": [
    "Look at the shape of the datasets"
   ]
  },
  {
   "cell_type": "code",
   "execution_count": 325,
   "id": "15aad86f",
   "metadata": {
    "scrolled": true
   },
   "outputs": [
    {
     "data": {
      "text/plain": [
       "(12528, 9)"
      ]
     },
     "execution_count": 325,
     "metadata": {},
     "output_type": "execute_result"
    }
   ],
   "source": [
    "pulsar_train.shape"
   ]
  },
  {
   "cell_type": "code",
   "execution_count": 326,
   "id": "db2596bc",
   "metadata": {},
   "outputs": [
    {
     "data": {
      "text/plain": [
       "(5370, 9)"
      ]
     },
     "execution_count": 326,
     "metadata": {},
     "output_type": "execute_result"
    }
   ],
   "source": [
    "pulsar_test.shape"
   ]
  },
  {
   "cell_type": "code",
   "execution_count": 327,
   "id": "b5a0dfed",
   "metadata": {
    "scrolled": true
   },
   "outputs": [
    {
     "data": {
      "text/plain": [
       "(17898, 9)"
      ]
     },
     "execution_count": 327,
     "metadata": {},
     "output_type": "execute_result"
    }
   ],
   "source": [
    "pulsar.shape"
   ]
  },
  {
   "cell_type": "markdown",
   "id": "8adc669b",
   "metadata": {},
   "source": [
    "# Taking a Look at the Data Sets"
   ]
  },
  {
   "cell_type": "code",
   "execution_count": 328,
   "id": "161f203d",
   "metadata": {},
   "outputs": [
    {
     "data": {
      "text/html": [
       "<div>\n",
       "<style scoped>\n",
       "    .dataframe tbody tr th:only-of-type {\n",
       "        vertical-align: middle;\n",
       "    }\n",
       "\n",
       "    .dataframe tbody tr th {\n",
       "        vertical-align: top;\n",
       "    }\n",
       "\n",
       "    .dataframe thead th {\n",
       "        text-align: right;\n",
       "    }\n",
       "</style>\n",
       "<table border=\"1\" class=\"dataframe\">\n",
       "  <thead>\n",
       "    <tr style=\"text-align: right;\">\n",
       "      <th></th>\n",
       "      <th>Mean of the integrated profile</th>\n",
       "      <th>Standard deviation of the integrated profile</th>\n",
       "      <th>Excess kurtosis of the integrated profile</th>\n",
       "      <th>Skewness of the integrated profile</th>\n",
       "      <th>Mean of the DM-SNR curve</th>\n",
       "      <th>Standard deviation of the DM-SNR curve</th>\n",
       "      <th>Excess kurtosis of the DM-SNR curve</th>\n",
       "      <th>Skewness of the DM-SNR curve</th>\n",
       "      <th>target_class</th>\n",
       "    </tr>\n",
       "  </thead>\n",
       "  <tbody>\n",
       "    <tr>\n",
       "      <th>0</th>\n",
       "      <td>121.156250</td>\n",
       "      <td>48.372971</td>\n",
       "      <td>0.375485</td>\n",
       "      <td>-0.013165</td>\n",
       "      <td>3.168896</td>\n",
       "      <td>18.399367</td>\n",
       "      <td>7.449874</td>\n",
       "      <td>65.159298</td>\n",
       "      <td>0.0</td>\n",
       "    </tr>\n",
       "    <tr>\n",
       "      <th>1</th>\n",
       "      <td>76.968750</td>\n",
       "      <td>36.175557</td>\n",
       "      <td>0.712898</td>\n",
       "      <td>3.388719</td>\n",
       "      <td>2.399666</td>\n",
       "      <td>17.570997</td>\n",
       "      <td>9.414652</td>\n",
       "      <td>102.722975</td>\n",
       "      <td>0.0</td>\n",
       "    </tr>\n",
       "    <tr>\n",
       "      <th>2</th>\n",
       "      <td>130.585938</td>\n",
       "      <td>53.229534</td>\n",
       "      <td>0.133408</td>\n",
       "      <td>-0.297242</td>\n",
       "      <td>2.743311</td>\n",
       "      <td>22.362553</td>\n",
       "      <td>8.508364</td>\n",
       "      <td>74.031324</td>\n",
       "      <td>0.0</td>\n",
       "    </tr>\n",
       "    <tr>\n",
       "      <th>3</th>\n",
       "      <td>156.398438</td>\n",
       "      <td>48.865942</td>\n",
       "      <td>-0.215989</td>\n",
       "      <td>-0.171294</td>\n",
       "      <td>17.471572</td>\n",
       "      <td>NaN</td>\n",
       "      <td>2.958066</td>\n",
       "      <td>7.197842</td>\n",
       "      <td>0.0</td>\n",
       "    </tr>\n",
       "    <tr>\n",
       "      <th>4</th>\n",
       "      <td>84.804688</td>\n",
       "      <td>36.117659</td>\n",
       "      <td>0.825013</td>\n",
       "      <td>3.274125</td>\n",
       "      <td>2.790134</td>\n",
       "      <td>20.618009</td>\n",
       "      <td>8.405008</td>\n",
       "      <td>76.291128</td>\n",
       "      <td>0.0</td>\n",
       "    </tr>\n",
       "    <tr>\n",
       "      <th>...</th>\n",
       "      <td>...</td>\n",
       "      <td>...</td>\n",
       "      <td>...</td>\n",
       "      <td>...</td>\n",
       "      <td>...</td>\n",
       "      <td>...</td>\n",
       "      <td>...</td>\n",
       "      <td>...</td>\n",
       "      <td>...</td>\n",
       "    </tr>\n",
       "    <tr>\n",
       "      <th>12523</th>\n",
       "      <td>124.312500</td>\n",
       "      <td>53.179053</td>\n",
       "      <td>-0.012418</td>\n",
       "      <td>-0.556021</td>\n",
       "      <td>7.186455</td>\n",
       "      <td>29.308266</td>\n",
       "      <td>4.531382</td>\n",
       "      <td>21.725143</td>\n",
       "      <td>0.0</td>\n",
       "    </tr>\n",
       "    <tr>\n",
       "      <th>12524</th>\n",
       "      <td>115.617188</td>\n",
       "      <td>46.784600</td>\n",
       "      <td>0.218177</td>\n",
       "      <td>0.226757</td>\n",
       "      <td>6.140468</td>\n",
       "      <td>NaN</td>\n",
       "      <td>5.732201</td>\n",
       "      <td>34.357283</td>\n",
       "      <td>0.0</td>\n",
       "    </tr>\n",
       "    <tr>\n",
       "      <th>12525</th>\n",
       "      <td>116.031250</td>\n",
       "      <td>43.213846</td>\n",
       "      <td>0.663456</td>\n",
       "      <td>0.433088</td>\n",
       "      <td>0.785117</td>\n",
       "      <td>11.628149</td>\n",
       "      <td>17.055215</td>\n",
       "      <td>312.204325</td>\n",
       "      <td>0.0</td>\n",
       "    </tr>\n",
       "    <tr>\n",
       "      <th>12526</th>\n",
       "      <td>135.664062</td>\n",
       "      <td>49.933749</td>\n",
       "      <td>-0.089940</td>\n",
       "      <td>-0.226726</td>\n",
       "      <td>3.859532</td>\n",
       "      <td>21.501505</td>\n",
       "      <td>7.398395</td>\n",
       "      <td>62.334018</td>\n",
       "      <td>0.0</td>\n",
       "    </tr>\n",
       "    <tr>\n",
       "      <th>12527</th>\n",
       "      <td>120.726562</td>\n",
       "      <td>50.472256</td>\n",
       "      <td>0.346178</td>\n",
       "      <td>0.184797</td>\n",
       "      <td>0.769231</td>\n",
       "      <td>11.792603</td>\n",
       "      <td>17.662222</td>\n",
       "      <td>329.548016</td>\n",
       "      <td>0.0</td>\n",
       "    </tr>\n",
       "  </tbody>\n",
       "</table>\n",
       "<p>12528 rows × 9 columns</p>\n",
       "</div>"
      ],
      "text/plain": [
       "        Mean of the integrated profile  \\\n",
       "0                           121.156250   \n",
       "1                            76.968750   \n",
       "2                           130.585938   \n",
       "3                           156.398438   \n",
       "4                            84.804688   \n",
       "...                                ...   \n",
       "12523                       124.312500   \n",
       "12524                       115.617188   \n",
       "12525                       116.031250   \n",
       "12526                       135.664062   \n",
       "12527                       120.726562   \n",
       "\n",
       "        Standard deviation of the integrated profile  \\\n",
       "0                                          48.372971   \n",
       "1                                          36.175557   \n",
       "2                                          53.229534   \n",
       "3                                          48.865942   \n",
       "4                                          36.117659   \n",
       "...                                              ...   \n",
       "12523                                      53.179053   \n",
       "12524                                      46.784600   \n",
       "12525                                      43.213846   \n",
       "12526                                      49.933749   \n",
       "12527                                      50.472256   \n",
       "\n",
       "        Excess kurtosis of the integrated profile  \\\n",
       "0                                        0.375485   \n",
       "1                                        0.712898   \n",
       "2                                        0.133408   \n",
       "3                                       -0.215989   \n",
       "4                                        0.825013   \n",
       "...                                           ...   \n",
       "12523                                   -0.012418   \n",
       "12524                                    0.218177   \n",
       "12525                                    0.663456   \n",
       "12526                                   -0.089940   \n",
       "12527                                    0.346178   \n",
       "\n",
       "        Skewness of the integrated profile   Mean of the DM-SNR curve  \\\n",
       "0                                -0.013165                   3.168896   \n",
       "1                                 3.388719                   2.399666   \n",
       "2                                -0.297242                   2.743311   \n",
       "3                                -0.171294                  17.471572   \n",
       "4                                 3.274125                   2.790134   \n",
       "...                                    ...                        ...   \n",
       "12523                            -0.556021                   7.186455   \n",
       "12524                             0.226757                   6.140468   \n",
       "12525                             0.433088                   0.785117   \n",
       "12526                            -0.226726                   3.859532   \n",
       "12527                             0.184797                   0.769231   \n",
       "\n",
       "        Standard deviation of the DM-SNR curve  \\\n",
       "0                                    18.399367   \n",
       "1                                    17.570997   \n",
       "2                                    22.362553   \n",
       "3                                          NaN   \n",
       "4                                    20.618009   \n",
       "...                                        ...   \n",
       "12523                                29.308266   \n",
       "12524                                      NaN   \n",
       "12525                                11.628149   \n",
       "12526                                21.501505   \n",
       "12527                                11.792603   \n",
       "\n",
       "        Excess kurtosis of the DM-SNR curve   Skewness of the DM-SNR curve  \\\n",
       "0                                  7.449874                      65.159298   \n",
       "1                                  9.414652                     102.722975   \n",
       "2                                  8.508364                      74.031324   \n",
       "3                                  2.958066                       7.197842   \n",
       "4                                  8.405008                      76.291128   \n",
       "...                                     ...                            ...   \n",
       "12523                              4.531382                      21.725143   \n",
       "12524                              5.732201                      34.357283   \n",
       "12525                             17.055215                     312.204325   \n",
       "12526                              7.398395                      62.334018   \n",
       "12527                             17.662222                     329.548016   \n",
       "\n",
       "       target_class  \n",
       "0               0.0  \n",
       "1               0.0  \n",
       "2               0.0  \n",
       "3               0.0  \n",
       "4               0.0  \n",
       "...             ...  \n",
       "12523           0.0  \n",
       "12524           0.0  \n",
       "12525           0.0  \n",
       "12526           0.0  \n",
       "12527           0.0  \n",
       "\n",
       "[12528 rows x 9 columns]"
      ]
     },
     "execution_count": 328,
     "metadata": {},
     "output_type": "execute_result"
    }
   ],
   "source": [
    "pulsar_train"
   ]
  },
  {
   "cell_type": "code",
   "execution_count": 329,
   "id": "941af82a",
   "metadata": {},
   "outputs": [
    {
     "data": {
      "text/html": [
       "<div>\n",
       "<style scoped>\n",
       "    .dataframe tbody tr th:only-of-type {\n",
       "        vertical-align: middle;\n",
       "    }\n",
       "\n",
       "    .dataframe tbody tr th {\n",
       "        vertical-align: top;\n",
       "    }\n",
       "\n",
       "    .dataframe thead th {\n",
       "        text-align: right;\n",
       "    }\n",
       "</style>\n",
       "<table border=\"1\" class=\"dataframe\">\n",
       "  <thead>\n",
       "    <tr style=\"text-align: right;\">\n",
       "      <th></th>\n",
       "      <th>Mean of the integrated profile</th>\n",
       "      <th>Standard deviation of the integrated profile</th>\n",
       "      <th>Excess kurtosis of the integrated profile</th>\n",
       "      <th>Skewness of the integrated profile</th>\n",
       "      <th>Mean of the DM-SNR curve</th>\n",
       "      <th>Standard deviation of the DM-SNR curve</th>\n",
       "      <th>Excess kurtosis of the DM-SNR curve</th>\n",
       "      <th>Skewness of the DM-SNR curve</th>\n",
       "      <th>target_class</th>\n",
       "    </tr>\n",
       "  </thead>\n",
       "  <tbody>\n",
       "    <tr>\n",
       "      <th>0</th>\n",
       "      <td>116.906250</td>\n",
       "      <td>48.920605</td>\n",
       "      <td>0.186046</td>\n",
       "      <td>-0.129815</td>\n",
       "      <td>3.037625</td>\n",
       "      <td>17.737102</td>\n",
       "      <td>8.122621</td>\n",
       "      <td>78.813405</td>\n",
       "      <td>NaN</td>\n",
       "    </tr>\n",
       "    <tr>\n",
       "      <th>1</th>\n",
       "      <td>75.585938</td>\n",
       "      <td>34.386254</td>\n",
       "      <td>2.025498</td>\n",
       "      <td>8.652913</td>\n",
       "      <td>3.765050</td>\n",
       "      <td>21.897049</td>\n",
       "      <td>7.048189</td>\n",
       "      <td>55.878791</td>\n",
       "      <td>NaN</td>\n",
       "    </tr>\n",
       "    <tr>\n",
       "      <th>2</th>\n",
       "      <td>103.273438</td>\n",
       "      <td>46.996628</td>\n",
       "      <td>0.504295</td>\n",
       "      <td>0.821088</td>\n",
       "      <td>2.244983</td>\n",
       "      <td>15.622566</td>\n",
       "      <td>9.330498</td>\n",
       "      <td>105.134941</td>\n",
       "      <td>NaN</td>\n",
       "    </tr>\n",
       "    <tr>\n",
       "      <th>3</th>\n",
       "      <td>101.078125</td>\n",
       "      <td>48.587487</td>\n",
       "      <td>1.011427</td>\n",
       "      <td>1.151870</td>\n",
       "      <td>81.887960</td>\n",
       "      <td>81.464136</td>\n",
       "      <td>0.485105</td>\n",
       "      <td>-1.117904</td>\n",
       "      <td>NaN</td>\n",
       "    </tr>\n",
       "    <tr>\n",
       "      <th>4</th>\n",
       "      <td>113.226562</td>\n",
       "      <td>48.608804</td>\n",
       "      <td>0.291538</td>\n",
       "      <td>0.292120</td>\n",
       "      <td>6.291806</td>\n",
       "      <td>26.585056</td>\n",
       "      <td>4.540138</td>\n",
       "      <td>21.708268</td>\n",
       "      <td>NaN</td>\n",
       "    </tr>\n",
       "    <tr>\n",
       "      <th>...</th>\n",
       "      <td>...</td>\n",
       "      <td>...</td>\n",
       "      <td>...</td>\n",
       "      <td>...</td>\n",
       "      <td>...</td>\n",
       "      <td>...</td>\n",
       "      <td>...</td>\n",
       "      <td>...</td>\n",
       "      <td>...</td>\n",
       "    </tr>\n",
       "    <tr>\n",
       "      <th>5365</th>\n",
       "      <td>116.531250</td>\n",
       "      <td>51.140269</td>\n",
       "      <td>-0.001220</td>\n",
       "      <td>-0.184189</td>\n",
       "      <td>4.510870</td>\n",
       "      <td>26.599514</td>\n",
       "      <td>6.634989</td>\n",
       "      <td>45.362390</td>\n",
       "      <td>NaN</td>\n",
       "    </tr>\n",
       "    <tr>\n",
       "      <th>5366</th>\n",
       "      <td>114.976562</td>\n",
       "      <td>53.783052</td>\n",
       "      <td>0.377599</td>\n",
       "      <td>-0.155708</td>\n",
       "      <td>2.772575</td>\n",
       "      <td>20.838488</td>\n",
       "      <td>8.440796</td>\n",
       "      <td>77.355028</td>\n",
       "      <td>NaN</td>\n",
       "    </tr>\n",
       "    <tr>\n",
       "      <th>5367</th>\n",
       "      <td>136.171875</td>\n",
       "      <td>48.924385</td>\n",
       "      <td>NaN</td>\n",
       "      <td>0.063227</td>\n",
       "      <td>2.810201</td>\n",
       "      <td>18.695230</td>\n",
       "      <td>7.848577</td>\n",
       "      <td>69.388978</td>\n",
       "      <td>NaN</td>\n",
       "    </tr>\n",
       "    <tr>\n",
       "      <th>5368</th>\n",
       "      <td>106.500000</td>\n",
       "      <td>49.066122</td>\n",
       "      <td>0.245742</td>\n",
       "      <td>0.140377</td>\n",
       "      <td>2.331104</td>\n",
       "      <td>15.417568</td>\n",
       "      <td>9.008041</td>\n",
       "      <td>100.367616</td>\n",
       "      <td>NaN</td>\n",
       "    </tr>\n",
       "    <tr>\n",
       "      <th>5369</th>\n",
       "      <td>110.679688</td>\n",
       "      <td>38.252642</td>\n",
       "      <td>0.459937</td>\n",
       "      <td>1.690689</td>\n",
       "      <td>4.434783</td>\n",
       "      <td>22.201794</td>\n",
       "      <td>5.939747</td>\n",
       "      <td>39.781374</td>\n",
       "      <td>NaN</td>\n",
       "    </tr>\n",
       "  </tbody>\n",
       "</table>\n",
       "<p>5370 rows × 9 columns</p>\n",
       "</div>"
      ],
      "text/plain": [
       "       Mean of the integrated profile  \\\n",
       "0                          116.906250   \n",
       "1                           75.585938   \n",
       "2                          103.273438   \n",
       "3                          101.078125   \n",
       "4                          113.226562   \n",
       "...                               ...   \n",
       "5365                       116.531250   \n",
       "5366                       114.976562   \n",
       "5367                       136.171875   \n",
       "5368                       106.500000   \n",
       "5369                       110.679688   \n",
       "\n",
       "       Standard deviation of the integrated profile  \\\n",
       "0                                         48.920605   \n",
       "1                                         34.386254   \n",
       "2                                         46.996628   \n",
       "3                                         48.587487   \n",
       "4                                         48.608804   \n",
       "...                                             ...   \n",
       "5365                                      51.140269   \n",
       "5366                                      53.783052   \n",
       "5367                                      48.924385   \n",
       "5368                                      49.066122   \n",
       "5369                                      38.252642   \n",
       "\n",
       "       Excess kurtosis of the integrated profile  \\\n",
       "0                                       0.186046   \n",
       "1                                       2.025498   \n",
       "2                                       0.504295   \n",
       "3                                       1.011427   \n",
       "4                                       0.291538   \n",
       "...                                          ...   \n",
       "5365                                   -0.001220   \n",
       "5366                                    0.377599   \n",
       "5367                                         NaN   \n",
       "5368                                    0.245742   \n",
       "5369                                    0.459937   \n",
       "\n",
       "       Skewness of the integrated profile   Mean of the DM-SNR curve  \\\n",
       "0                               -0.129815                   3.037625   \n",
       "1                                8.652913                   3.765050   \n",
       "2                                0.821088                   2.244983   \n",
       "3                                1.151870                  81.887960   \n",
       "4                                0.292120                   6.291806   \n",
       "...                                   ...                        ...   \n",
       "5365                            -0.184189                   4.510870   \n",
       "5366                            -0.155708                   2.772575   \n",
       "5367                             0.063227                   2.810201   \n",
       "5368                             0.140377                   2.331104   \n",
       "5369                             1.690689                   4.434783   \n",
       "\n",
       "       Standard deviation of the DM-SNR curve  \\\n",
       "0                                   17.737102   \n",
       "1                                   21.897049   \n",
       "2                                   15.622566   \n",
       "3                                   81.464136   \n",
       "4                                   26.585056   \n",
       "...                                       ...   \n",
       "5365                                26.599514   \n",
       "5366                                20.838488   \n",
       "5367                                18.695230   \n",
       "5368                                15.417568   \n",
       "5369                                22.201794   \n",
       "\n",
       "       Excess kurtosis of the DM-SNR curve   Skewness of the DM-SNR curve  \\\n",
       "0                                 8.122621                      78.813405   \n",
       "1                                 7.048189                      55.878791   \n",
       "2                                 9.330498                     105.134941   \n",
       "3                                 0.485105                      -1.117904   \n",
       "4                                 4.540138                      21.708268   \n",
       "...                                    ...                            ...   \n",
       "5365                              6.634989                      45.362390   \n",
       "5366                              8.440796                      77.355028   \n",
       "5367                              7.848577                      69.388978   \n",
       "5368                              9.008041                     100.367616   \n",
       "5369                              5.939747                      39.781374   \n",
       "\n",
       "      target_class  \n",
       "0              NaN  \n",
       "1              NaN  \n",
       "2              NaN  \n",
       "3              NaN  \n",
       "4              NaN  \n",
       "...            ...  \n",
       "5365           NaN  \n",
       "5366           NaN  \n",
       "5367           NaN  \n",
       "5368           NaN  \n",
       "5369           NaN  \n",
       "\n",
       "[5370 rows x 9 columns]"
      ]
     },
     "execution_count": 329,
     "metadata": {},
     "output_type": "execute_result"
    }
   ],
   "source": [
    "pulsar_test"
   ]
  },
  {
   "cell_type": "code",
   "execution_count": 330,
   "id": "85c00f25",
   "metadata": {},
   "outputs": [
    {
     "data": {
      "text/html": [
       "<div>\n",
       "<style scoped>\n",
       "    .dataframe tbody tr th:only-of-type {\n",
       "        vertical-align: middle;\n",
       "    }\n",
       "\n",
       "    .dataframe tbody tr th {\n",
       "        vertical-align: top;\n",
       "    }\n",
       "\n",
       "    .dataframe thead th {\n",
       "        text-align: right;\n",
       "    }\n",
       "</style>\n",
       "<table border=\"1\" class=\"dataframe\">\n",
       "  <thead>\n",
       "    <tr style=\"text-align: right;\">\n",
       "      <th></th>\n",
       "      <th>Mean_Integrated</th>\n",
       "      <th>SD</th>\n",
       "      <th>EK</th>\n",
       "      <th>Skewness</th>\n",
       "      <th>Mean_DMSNR_Curve</th>\n",
       "      <th>SD_DMSNR_Curve</th>\n",
       "      <th>EK_DMSNR_Curve</th>\n",
       "      <th>Skewness_DMSNR_Curve</th>\n",
       "      <th>Class</th>\n",
       "    </tr>\n",
       "  </thead>\n",
       "  <tbody>\n",
       "    <tr>\n",
       "      <th>0</th>\n",
       "      <td>140.562500</td>\n",
       "      <td>55.683782</td>\n",
       "      <td>-0.234571</td>\n",
       "      <td>-0.699648</td>\n",
       "      <td>3.199833</td>\n",
       "      <td>19.110426</td>\n",
       "      <td>7.975532</td>\n",
       "      <td>74.242225</td>\n",
       "      <td>0</td>\n",
       "    </tr>\n",
       "    <tr>\n",
       "      <th>1</th>\n",
       "      <td>102.507812</td>\n",
       "      <td>58.882430</td>\n",
       "      <td>0.465318</td>\n",
       "      <td>-0.515088</td>\n",
       "      <td>1.677258</td>\n",
       "      <td>14.860146</td>\n",
       "      <td>10.576487</td>\n",
       "      <td>127.393580</td>\n",
       "      <td>0</td>\n",
       "    </tr>\n",
       "    <tr>\n",
       "      <th>2</th>\n",
       "      <td>103.015625</td>\n",
       "      <td>39.341649</td>\n",
       "      <td>0.323328</td>\n",
       "      <td>1.051164</td>\n",
       "      <td>3.121237</td>\n",
       "      <td>21.744669</td>\n",
       "      <td>7.735822</td>\n",
       "      <td>63.171909</td>\n",
       "      <td>0</td>\n",
       "    </tr>\n",
       "    <tr>\n",
       "      <th>3</th>\n",
       "      <td>136.750000</td>\n",
       "      <td>57.178449</td>\n",
       "      <td>-0.068415</td>\n",
       "      <td>-0.636238</td>\n",
       "      <td>3.642977</td>\n",
       "      <td>20.959280</td>\n",
       "      <td>6.896499</td>\n",
       "      <td>53.593661</td>\n",
       "      <td>0</td>\n",
       "    </tr>\n",
       "    <tr>\n",
       "      <th>4</th>\n",
       "      <td>88.726562</td>\n",
       "      <td>40.672225</td>\n",
       "      <td>0.600866</td>\n",
       "      <td>1.123492</td>\n",
       "      <td>1.178930</td>\n",
       "      <td>11.468720</td>\n",
       "      <td>14.269573</td>\n",
       "      <td>252.567306</td>\n",
       "      <td>0</td>\n",
       "    </tr>\n",
       "    <tr>\n",
       "      <th>...</th>\n",
       "      <td>...</td>\n",
       "      <td>...</td>\n",
       "      <td>...</td>\n",
       "      <td>...</td>\n",
       "      <td>...</td>\n",
       "      <td>...</td>\n",
       "      <td>...</td>\n",
       "      <td>...</td>\n",
       "      <td>...</td>\n",
       "    </tr>\n",
       "    <tr>\n",
       "      <th>17893</th>\n",
       "      <td>136.429688</td>\n",
       "      <td>59.847421</td>\n",
       "      <td>-0.187846</td>\n",
       "      <td>-0.738123</td>\n",
       "      <td>1.296823</td>\n",
       "      <td>12.166062</td>\n",
       "      <td>15.450260</td>\n",
       "      <td>285.931022</td>\n",
       "      <td>0</td>\n",
       "    </tr>\n",
       "    <tr>\n",
       "      <th>17894</th>\n",
       "      <td>122.554688</td>\n",
       "      <td>49.485605</td>\n",
       "      <td>0.127978</td>\n",
       "      <td>0.323061</td>\n",
       "      <td>16.409699</td>\n",
       "      <td>44.626893</td>\n",
       "      <td>2.945244</td>\n",
       "      <td>8.297092</td>\n",
       "      <td>0</td>\n",
       "    </tr>\n",
       "    <tr>\n",
       "      <th>17895</th>\n",
       "      <td>119.335938</td>\n",
       "      <td>59.935939</td>\n",
       "      <td>0.159363</td>\n",
       "      <td>-0.743025</td>\n",
       "      <td>21.430602</td>\n",
       "      <td>58.872000</td>\n",
       "      <td>2.499517</td>\n",
       "      <td>4.595173</td>\n",
       "      <td>0</td>\n",
       "    </tr>\n",
       "    <tr>\n",
       "      <th>17896</th>\n",
       "      <td>114.507812</td>\n",
       "      <td>53.902400</td>\n",
       "      <td>0.201161</td>\n",
       "      <td>-0.024789</td>\n",
       "      <td>1.946488</td>\n",
       "      <td>13.381731</td>\n",
       "      <td>10.007967</td>\n",
       "      <td>134.238910</td>\n",
       "      <td>0</td>\n",
       "    </tr>\n",
       "    <tr>\n",
       "      <th>17897</th>\n",
       "      <td>57.062500</td>\n",
       "      <td>85.797340</td>\n",
       "      <td>1.406391</td>\n",
       "      <td>0.089520</td>\n",
       "      <td>188.306020</td>\n",
       "      <td>64.712562</td>\n",
       "      <td>-1.597527</td>\n",
       "      <td>1.429475</td>\n",
       "      <td>0</td>\n",
       "    </tr>\n",
       "  </tbody>\n",
       "</table>\n",
       "<p>17898 rows × 9 columns</p>\n",
       "</div>"
      ],
      "text/plain": [
       "       Mean_Integrated         SD        EK  Skewness  Mean_DMSNR_Curve  \\\n",
       "0           140.562500  55.683782 -0.234571 -0.699648          3.199833   \n",
       "1           102.507812  58.882430  0.465318 -0.515088          1.677258   \n",
       "2           103.015625  39.341649  0.323328  1.051164          3.121237   \n",
       "3           136.750000  57.178449 -0.068415 -0.636238          3.642977   \n",
       "4            88.726562  40.672225  0.600866  1.123492          1.178930   \n",
       "...                ...        ...       ...       ...               ...   \n",
       "17893       136.429688  59.847421 -0.187846 -0.738123          1.296823   \n",
       "17894       122.554688  49.485605  0.127978  0.323061         16.409699   \n",
       "17895       119.335938  59.935939  0.159363 -0.743025         21.430602   \n",
       "17896       114.507812  53.902400  0.201161 -0.024789          1.946488   \n",
       "17897        57.062500  85.797340  1.406391  0.089520        188.306020   \n",
       "\n",
       "       SD_DMSNR_Curve  EK_DMSNR_Curve  Skewness_DMSNR_Curve  Class  \n",
       "0           19.110426        7.975532             74.242225      0  \n",
       "1           14.860146       10.576487            127.393580      0  \n",
       "2           21.744669        7.735822             63.171909      0  \n",
       "3           20.959280        6.896499             53.593661      0  \n",
       "4           11.468720       14.269573            252.567306      0  \n",
       "...               ...             ...                   ...    ...  \n",
       "17893       12.166062       15.450260            285.931022      0  \n",
       "17894       44.626893        2.945244              8.297092      0  \n",
       "17895       58.872000        2.499517              4.595173      0  \n",
       "17896       13.381731       10.007967            134.238910      0  \n",
       "17897       64.712562       -1.597527              1.429475      0  \n",
       "\n",
       "[17898 rows x 9 columns]"
      ]
     },
     "execution_count": 330,
     "metadata": {},
     "output_type": "execute_result"
    }
   ],
   "source": [
    "pulsar"
   ]
  },
  {
   "cell_type": "markdown",
   "id": "f25d97fc",
   "metadata": {},
   "source": [
    "# Visualizing and Listing the Null Values"
   ]
  },
  {
   "cell_type": "code",
   "execution_count": 331,
   "id": "904c2544",
   "metadata": {
    "scrolled": false
   },
   "outputs": [
    {
     "data": {
      "text/plain": [
       " Mean of the integrated profile                     0\n",
       " Standard deviation of the integrated profile       0\n",
       " Excess kurtosis of the integrated profile       1735\n",
       " Skewness of the integrated profile                 0\n",
       " Mean of the DM-SNR curve                           0\n",
       " Standard deviation of the DM-SNR curve          1178\n",
       " Excess kurtosis of the DM-SNR curve                0\n",
       " Skewness of the DM-SNR curve                     625\n",
       "target_class                                        0\n",
       "dtype: int64"
      ]
     },
     "execution_count": 331,
     "metadata": {},
     "output_type": "execute_result"
    }
   ],
   "source": [
    "pulsar_train.isnull().sum()"
   ]
  },
  {
   "cell_type": "code",
   "execution_count": 332,
   "id": "d9f3e927",
   "metadata": {
    "scrolled": false
   },
   "outputs": [
    {
     "data": {
      "text/plain": [
       "<AxesSubplot:>"
      ]
     },
     "execution_count": 332,
     "metadata": {},
     "output_type": "execute_result"
    },
    {
     "data": {
      "image/png": "[encoded data removed]",
      "text/plain": [
       "<Figure size 432x288 with 1 Axes>"
      ]
     },
     "metadata": {
      "needs_background": "light"
     },
     "output_type": "display_data"
    }
   ],
   "source": [
    "sns.heatmap(pulsar_train.isnull(), yticklabels=False, cbar=False, cmap='viridis')"
   ]
  },
  {
   "cell_type": "markdown",
   "id": "32b1b468",
   "metadata": {},
   "source": [
    "There are quite a few NaN values in the Excess Kurtosis of the IP, SD of the DM-SNR Curve, and the Skewness of the DM-SNR Curve columns. "
   ]
  },
  {
   "cell_type": "code",
   "execution_count": 333,
   "id": "6a475134",
   "metadata": {
    "scrolled": false
   },
   "outputs": [
    {
     "data": {
      "text/plain": [
       " Mean of the integrated profile                     0\n",
       " Standard deviation of the integrated profile       0\n",
       " Excess kurtosis of the integrated profile        767\n",
       " Skewness of the integrated profile                 0\n",
       " Mean of the DM-SNR curve                           0\n",
       " Standard deviation of the DM-SNR curve           524\n",
       " Excess kurtosis of the DM-SNR curve                0\n",
       " Skewness of the DM-SNR curve                     244\n",
       "target_class                                     5370\n",
       "dtype: int64"
      ]
     },
     "execution_count": 333,
     "metadata": {},
     "output_type": "execute_result"
    }
   ],
   "source": [
    "pulsar_test.isnull().sum()"
   ]
  },
  {
   "cell_type": "code",
   "execution_count": 334,
   "id": "cdc74fbd",
   "metadata": {
    "scrolled": true
   },
   "outputs": [
    {
     "data": {
      "text/plain": [
       "<AxesSubplot:>"
      ]
     },
     "execution_count": 334,
     "metadata": {},
     "output_type": "execute_result"
    },
    {
     "data": {
      "image/png": "[encoded data removed]",
      "text/plain": [
       "<Figure size 432x288 with 1 Axes>"
      ]
     },
     "metadata": {
      "needs_background": "light"
     },
     "output_type": "display_data"
    }
   ],
   "source": [
    "sns.heatmap(pulsar_test.isnull(), yticklabels=False, cbar=False, cmap='viridis')"
   ]
  },
  {
   "cell_type": "markdown",
   "id": "5347a0f8",
   "metadata": {},
   "source": [
    "This dataset also has quite a few NaN values in the Excess Kurtosis of the IP, SD of the DM-SNR Curve, and the Skewness of the DM-SNR Curve columns. All of target_class is null in this dataset, but that's to be expected."
   ]
  },
  {
   "cell_type": "code",
   "execution_count": 335,
   "id": "dcba72bc",
   "metadata": {
    "scrolled": true
   },
   "outputs": [
    {
     "data": {
      "text/plain": [
       "Mean_Integrated         0\n",
       "SD                      0\n",
       "EK                      0\n",
       "Skewness                0\n",
       "Mean_DMSNR_Curve        0\n",
       "SD_DMSNR_Curve          0\n",
       "EK_DMSNR_Curve          0\n",
       "Skewness_DMSNR_Curve    0\n",
       "Class                   0\n",
       "dtype: int64"
      ]
     },
     "execution_count": 335,
     "metadata": {},
     "output_type": "execute_result"
    }
   ],
   "source": [
    "pulsar.isnull().sum()"
   ]
  },
  {
   "cell_type": "code",
   "execution_count": 336,
   "id": "e39cac12",
   "metadata": {
    "scrolled": true
   },
   "outputs": [
    {
     "data": {
      "text/plain": [
       "<AxesSubplot:>"
      ]
     },
     "execution_count": 336,
     "metadata": {},
     "output_type": "execute_result"
    },
    {
     "data": {
      "image/png": "[encoded data removed]",
      "text/plain": [
       "<Figure size 432x288 with 1 Axes>"
      ]
     },
     "metadata": {
      "needs_background": "light"
     },
     "output_type": "display_data"
    }
   ],
   "source": [
    "sns.heatmap(pulsar.isnull(), yticklabels=False, cbar=False, cmap='viridis')"
   ]
  },
  {
   "cell_type": "markdown",
   "id": "9df73a89",
   "metadata": {},
   "source": [
    "This dataset looks good, with no null values, but the column names don't match the ones in the other dataset. "
   ]
  },
  {
   "cell_type": "markdown",
   "id": "8e9dba64",
   "metadata": {},
   "source": [
    "# Listing Data Types"
   ]
  },
  {
   "cell_type": "code",
   "execution_count": 337,
   "id": "3b031f22",
   "metadata": {},
   "outputs": [
    {
     "data": {
      "text/plain": [
       " Mean of the integrated profile                  float64\n",
       " Standard deviation of the integrated profile    float64\n",
       " Excess kurtosis of the integrated profile       float64\n",
       " Skewness of the integrated profile              float64\n",
       " Mean of the DM-SNR curve                        float64\n",
       " Standard deviation of the DM-SNR curve          float64\n",
       " Excess kurtosis of the DM-SNR curve             float64\n",
       " Skewness of the DM-SNR curve                    float64\n",
       "target_class                                     float64\n",
       "dtype: object"
      ]
     },
     "execution_count": 337,
     "metadata": {},
     "output_type": "execute_result"
    }
   ],
   "source": [
    "pulsar_train.dtypes"
   ]
  },
  {
   "cell_type": "code",
   "execution_count": 338,
   "id": "2e55c2cc",
   "metadata": {},
   "outputs": [
    {
     "data": {
      "text/plain": [
       " Mean of the integrated profile                  float64\n",
       " Standard deviation of the integrated profile    float64\n",
       " Excess kurtosis of the integrated profile       float64\n",
       " Skewness of the integrated profile              float64\n",
       " Mean of the DM-SNR curve                        float64\n",
       " Standard deviation of the DM-SNR curve          float64\n",
       " Excess kurtosis of the DM-SNR curve             float64\n",
       " Skewness of the DM-SNR curve                    float64\n",
       "target_class                                     float64\n",
       "dtype: object"
      ]
     },
     "execution_count": 338,
     "metadata": {},
     "output_type": "execute_result"
    }
   ],
   "source": [
    "pulsar_test.dtypes"
   ]
  },
  {
   "cell_type": "code",
   "execution_count": 339,
   "id": "a1fb1165",
   "metadata": {},
   "outputs": [
    {
     "data": {
      "text/plain": [
       "Mean_Integrated         float64\n",
       "SD                      float64\n",
       "EK                      float64\n",
       "Skewness                float64\n",
       "Mean_DMSNR_Curve        float64\n",
       "SD_DMSNR_Curve          float64\n",
       "EK_DMSNR_Curve          float64\n",
       "Skewness_DMSNR_Curve    float64\n",
       "Class                     int64\n",
       "dtype: object"
      ]
     },
     "execution_count": 339,
     "metadata": {},
     "output_type": "execute_result"
    }
   ],
   "source": [
    "pulsar.dtypes"
   ]
  },
  {
   "cell_type": "markdown",
   "id": "a982481c",
   "metadata": {},
   "source": [
    "All of the data is numerical, but there are a lot of NaN values to replace. Also, the column names are different between the pulsar_test/train datasets and the pulsar dataset.  "
   ]
  },
  {
   "cell_type": "markdown",
   "id": "4b51e1a7",
   "metadata": {},
   "source": [
    "After studying the data, I decided to find the original data set and start the project from scratch with that. \n",
    "The NaN and the column title discrepancies gave me reasons to be concerned. "
   ]
  },
  {
   "cell_type": "markdown",
   "id": "a2f66a54",
   "metadata": {},
   "source": [
    "# Importing a New Dataset"
   ]
  },
  {
   "cell_type": "code",
   "execution_count": 340,
   "id": "5f6b7cfe",
   "metadata": {},
   "outputs": [],
   "source": [
    "pulsars_column = [\"Mean IP\", \"SD IP\", \"EK IP\", \"SK IP\", \"Mean DM-SNR\", \"SD DM-SNR\", \"EK DM-SNR\", \"SK DM-SNR\", \"Class\"]"
   ]
  },
  {
   "cell_type": "code",
   "execution_count": 341,
   "id": "e380cef3",
   "metadata": {},
   "outputs": [],
   "source": [
    "pulsars = pd.read_csv(\"Data/HTRU_2.csv\", names=pulsars_column)"
   ]
  },
  {
   "cell_type": "markdown",
   "id": "bf69e1ad",
   "metadata": {},
   "source": [
    "For citation purposes, this [dataset](https://archive.ics.uci.edu/ml/datasets/HTRU2) was downloaded from \n",
    "R. J. Lyon, B. W. Stappers, S. Cooper, J. M. Brooke, J. D. Knowles, Fifty Years of Pulsar Candidate Selection: From simple filters to a new principled real-time classification approach MNRAS, 2016."
   ]
  },
  {
   "cell_type": "markdown",
   "id": "595b295a",
   "metadata": {},
   "source": [
    "[Interactive Pulsar Map](https://ishivvers.github.io/maps/pulsars.html)"
   ]
  },
  {
   "attachments": {
    "Integrated%20Profile.gif": {
     "image/gif": "[encoded data removed]"
    }
   },
   "cell_type": "markdown",
   "id": "67769193",
   "metadata": {},
   "source": [
    "Since the dataset didn't have column names, I had to add some.\n",
    "The abbreviated column names stand for\n",
    "mean of the integrated profile, standard deviation of the integrated profile, \n",
    "excess kurtosis of the intergrated profile, skewness of the integrated profile, \n",
    "mean of the DM-SNR curve, standard deviation of the DM-SNR curve, \n",
    "excess kurtosis of the DM-SNR curve, skewness of the DM-SNR curve, and class. \n",
    "\n",
    "# Integrated Profiles\n",
    "\n",
    "Individual bursts are not very consistent, so integrated pulse profiles are obtained by integrating thousand of individual pulses.\n",
    "\n",
    "These are generally stable readings.\n",
    "\n",
    "![Integrated%20Profile.gif](attachment:Integrated%20Profile.gif)\n",
    "\n",
    "The top part of the illustration is the readings from the individual waves. The bottom part is a plot of the average of all of those waves.\n",
    "\n",
    "[Source](https://as595.github.io/classification/)"
   ]
  },
  {
   "cell_type": "markdown",
   "id": "66fc1d1d",
   "metadata": {},
   "source": [
    "# DM-SNR\n",
    "\n",
    "The dispersion measure (DM) is the effect of the interstellar medium, whatever the pulse is traveling through. SNR stands for the signal to noise ratio.\n",
    "\n",
    "The DM allows us to distinguish pulsars from other noise in space.\n",
    "\n",
    "<img src=\"Images/Dispersion Measure.png\" alt=\"drawing\" width=\"600\"/>\n",
    "\n",
    "[Source](https://www.cv.nrao.edu/~sransom/web/Ch6.html)"
   ]
  },
  {
   "cell_type": "markdown",
   "id": "c0e51bc2",
   "metadata": {},
   "source": [
    "# Table of Column Abbreviation Meanings"
   ]
  },
  {
   "cell_type": "code",
   "execution_count": 342,
   "id": "406f3811",
   "metadata": {
    "scrolled": false
   },
   "outputs": [
    {
     "data": {
      "image/png": "[encoded data removed]",
      "text/plain": [
       "<IPython.core.display.Image object>"
      ]
     },
     "execution_count": 342,
     "metadata": {},
     "output_type": "execute_result"
    }
   ],
   "source": [
    "Image('Images/Column Meanings.png')"
   ]
  },
  {
   "cell_type": "markdown",
   "id": "fdd73d07",
   "metadata": {},
   "source": [
    "Exporting the pulsars.csv dataset, with column names, to use in Tableau at a later date."
   ]
  },
  {
   "cell_type": "code",
   "execution_count": 343,
   "id": "babbcb01",
   "metadata": {},
   "outputs": [],
   "source": [
    "pulsars.to_csv(r'Data/pulsars.csv', index = False)"
   ]
  },
  {
   "cell_type": "markdown",
   "id": "7196257c",
   "metadata": {},
   "source": [
    "# Looking at the New Dataset"
   ]
  },
  {
   "cell_type": "code",
   "execution_count": 344,
   "id": "a161741c",
   "metadata": {
    "scrolled": true
   },
   "outputs": [
    {
     "data": {
      "text/html": [
       "<div>\n",
       "<style scoped>\n",
       "    .dataframe tbody tr th:only-of-type {\n",
       "        vertical-align: middle;\n",
       "    }\n",
       "\n",
       "    .dataframe tbody tr th {\n",
       "        vertical-align: top;\n",
       "    }\n",
       "\n",
       "    .dataframe thead th {\n",
       "        text-align: right;\n",
       "    }\n",
       "</style>\n",
       "<table border=\"1\" class=\"dataframe\">\n",
       "  <thead>\n",
       "    <tr style=\"text-align: right;\">\n",
       "      <th></th>\n",
       "      <th>Mean IP</th>\n",
       "      <th>SD IP</th>\n",
       "      <th>EK IP</th>\n",
       "      <th>SK IP</th>\n",
       "      <th>Mean DM-SNR</th>\n",
       "      <th>SD DM-SNR</th>\n",
       "      <th>EK DM-SNR</th>\n",
       "      <th>SK DM-SNR</th>\n",
       "      <th>Class</th>\n",
       "    </tr>\n",
       "  </thead>\n",
       "  <tbody>\n",
       "    <tr>\n",
       "      <th>0</th>\n",
       "      <td>140.562500</td>\n",
       "      <td>55.683782</td>\n",
       "      <td>-0.234571</td>\n",
       "      <td>-0.699648</td>\n",
       "      <td>3.199833</td>\n",
       "      <td>19.110426</td>\n",
       "      <td>7.975532</td>\n",
       "      <td>74.242225</td>\n",
       "      <td>0</td>\n",
       "    </tr>\n",
       "    <tr>\n",
       "      <th>1</th>\n",
       "      <td>102.507812</td>\n",
       "      <td>58.882430</td>\n",
       "      <td>0.465318</td>\n",
       "      <td>-0.515088</td>\n",
       "      <td>1.677258</td>\n",
       "      <td>14.860146</td>\n",
       "      <td>10.576487</td>\n",
       "      <td>127.393580</td>\n",
       "      <td>0</td>\n",
       "    </tr>\n",
       "    <tr>\n",
       "      <th>2</th>\n",
       "      <td>103.015625</td>\n",
       "      <td>39.341649</td>\n",
       "      <td>0.323328</td>\n",
       "      <td>1.051164</td>\n",
       "      <td>3.121237</td>\n",
       "      <td>21.744669</td>\n",
       "      <td>7.735822</td>\n",
       "      <td>63.171909</td>\n",
       "      <td>0</td>\n",
       "    </tr>\n",
       "    <tr>\n",
       "      <th>3</th>\n",
       "      <td>136.750000</td>\n",
       "      <td>57.178449</td>\n",
       "      <td>-0.068415</td>\n",
       "      <td>-0.636238</td>\n",
       "      <td>3.642977</td>\n",
       "      <td>20.959280</td>\n",
       "      <td>6.896499</td>\n",
       "      <td>53.593661</td>\n",
       "      <td>0</td>\n",
       "    </tr>\n",
       "    <tr>\n",
       "      <th>4</th>\n",
       "      <td>88.726562</td>\n",
       "      <td>40.672225</td>\n",
       "      <td>0.600866</td>\n",
       "      <td>1.123492</td>\n",
       "      <td>1.178930</td>\n",
       "      <td>11.468720</td>\n",
       "      <td>14.269573</td>\n",
       "      <td>252.567306</td>\n",
       "      <td>0</td>\n",
       "    </tr>\n",
       "  </tbody>\n",
       "</table>\n",
       "</div>"
      ],
      "text/plain": [
       "      Mean IP      SD IP     EK IP     SK IP  Mean DM-SNR  SD DM-SNR  \\\n",
       "0  140.562500  55.683782 -0.234571 -0.699648     3.199833  19.110426   \n",
       "1  102.507812  58.882430  0.465318 -0.515088     1.677258  14.860146   \n",
       "2  103.015625  39.341649  0.323328  1.051164     3.121237  21.744669   \n",
       "3  136.750000  57.178449 -0.068415 -0.636238     3.642977  20.959280   \n",
       "4   88.726562  40.672225  0.600866  1.123492     1.178930  11.468720   \n",
       "\n",
       "   EK DM-SNR   SK DM-SNR  Class  \n",
       "0   7.975532   74.242225      0  \n",
       "1  10.576487  127.393580      0  \n",
       "2   7.735822   63.171909      0  \n",
       "3   6.896499   53.593661      0  \n",
       "4  14.269573  252.567306      0  "
      ]
     },
     "execution_count": 344,
     "metadata": {},
     "output_type": "execute_result"
    }
   ],
   "source": [
    "pulsars.head()"
   ]
  },
  {
   "cell_type": "markdown",
   "id": "060115bf",
   "metadata": {},
   "source": [
    "# Listing and Visualizing the Null Values"
   ]
  },
  {
   "cell_type": "code",
   "execution_count": 345,
   "id": "b98a44ab",
   "metadata": {
    "scrolled": true
   },
   "outputs": [
    {
     "data": {
      "text/plain": [
       "Mean IP        0\n",
       "SD IP          0\n",
       "EK IP          0\n",
       "SK IP          0\n",
       "Mean DM-SNR    0\n",
       "SD DM-SNR      0\n",
       "EK DM-SNR      0\n",
       "SK DM-SNR      0\n",
       "Class          0\n",
       "dtype: int64"
      ]
     },
     "execution_count": 345,
     "metadata": {},
     "output_type": "execute_result"
    }
   ],
   "source": [
    "pulsars.isnull().sum()"
   ]
  },
  {
   "cell_type": "code",
   "execution_count": 346,
   "id": "8970e7ef",
   "metadata": {},
   "outputs": [
    {
     "data": {
      "text/plain": [
       "<AxesSubplot:>"
      ]
     },
     "execution_count": 346,
     "metadata": {},
     "output_type": "execute_result"
    },
    {
     "data": {
      "image/png": "[encoded data removed]",
      "text/plain": [
       "<Figure size 432x288 with 1 Axes>"
      ]
     },
     "metadata": {
      "needs_background": "light"
     },
     "output_type": "display_data"
    }
   ],
   "source": [
    "sns.heatmap(pulsars.isnull(), yticklabels=False, cbar=False, cmap='viridis')"
   ]
  },
  {
   "cell_type": "markdown",
   "id": "820c73a5",
   "metadata": {},
   "source": [
    "There are no NaN values, so I don't have to replace any missing data."
   ]
  },
  {
   "cell_type": "markdown",
   "id": "6d6a4cb4",
   "metadata": {},
   "source": [
    "# Checking Data Types for Each Variable"
   ]
  },
  {
   "cell_type": "code",
   "execution_count": 347,
   "id": "2d225724",
   "metadata": {
    "scrolled": true
   },
   "outputs": [
    {
     "data": {
      "text/plain": [
       "Mean IP        float64\n",
       "SD IP          float64\n",
       "EK IP          float64\n",
       "SK IP          float64\n",
       "Mean DM-SNR    float64\n",
       "SD DM-SNR      float64\n",
       "EK DM-SNR      float64\n",
       "SK DM-SNR      float64\n",
       "Class            int64\n",
       "dtype: object"
      ]
     },
     "execution_count": 347,
     "metadata": {},
     "output_type": "execute_result"
    }
   ],
   "source": [
    "pulsars.dtypes"
   ]
  },
  {
   "cell_type": "markdown",
   "id": "81e65246",
   "metadata": {},
   "source": [
    "All variables are numeric and are either floats or integers, so no further wrangling is necessary. Everything looks good and the data is ready for the machine learning model. \n",
    "The pulsar_train, pulsar_test, and pulsar datasets will be disregarded and I will use the pulsars dataset. "
   ]
  },
  {
   "cell_type": "markdown",
   "id": "ee852eb8",
   "metadata": {},
   "source": [
    "# Resuming Data Wrangling and Exploration. \n",
    "\n",
    "# Describe the Data Sets"
   ]
  },
  {
   "cell_type": "code",
   "execution_count": 348,
   "id": "e8a3047f",
   "metadata": {},
   "outputs": [
    {
     "data": {
      "text/html": [
       "<div>\n",
       "<style scoped>\n",
       "    .dataframe tbody tr th:only-of-type {\n",
       "        vertical-align: middle;\n",
       "    }\n",
       "\n",
       "    .dataframe tbody tr th {\n",
       "        vertical-align: top;\n",
       "    }\n",
       "\n",
       "    .dataframe thead th {\n",
       "        text-align: right;\n",
       "    }\n",
       "</style>\n",
       "<table border=\"1\" class=\"dataframe\">\n",
       "  <thead>\n",
       "    <tr style=\"text-align: right;\">\n",
       "      <th></th>\n",
       "      <th>Mean IP</th>\n",
       "      <th>SD IP</th>\n",
       "      <th>EK IP</th>\n",
       "      <th>SK IP</th>\n",
       "      <th>Mean DM-SNR</th>\n",
       "      <th>SD DM-SNR</th>\n",
       "      <th>EK DM-SNR</th>\n",
       "      <th>SK DM-SNR</th>\n",
       "      <th>Class</th>\n",
       "    </tr>\n",
       "  </thead>\n",
       "  <tbody>\n",
       "    <tr>\n",
       "      <th>0</th>\n",
       "      <td>140.562500</td>\n",
       "      <td>55.683782</td>\n",
       "      <td>-0.234571</td>\n",
       "      <td>-0.699648</td>\n",
       "      <td>3.199833</td>\n",
       "      <td>19.110426</td>\n",
       "      <td>7.975532</td>\n",
       "      <td>74.242225</td>\n",
       "      <td>0</td>\n",
       "    </tr>\n",
       "    <tr>\n",
       "      <th>1</th>\n",
       "      <td>102.507812</td>\n",
       "      <td>58.882430</td>\n",
       "      <td>0.465318</td>\n",
       "      <td>-0.515088</td>\n",
       "      <td>1.677258</td>\n",
       "      <td>14.860146</td>\n",
       "      <td>10.576487</td>\n",
       "      <td>127.393580</td>\n",
       "      <td>0</td>\n",
       "    </tr>\n",
       "    <tr>\n",
       "      <th>2</th>\n",
       "      <td>103.015625</td>\n",
       "      <td>39.341649</td>\n",
       "      <td>0.323328</td>\n",
       "      <td>1.051164</td>\n",
       "      <td>3.121237</td>\n",
       "      <td>21.744669</td>\n",
       "      <td>7.735822</td>\n",
       "      <td>63.171909</td>\n",
       "      <td>0</td>\n",
       "    </tr>\n",
       "    <tr>\n",
       "      <th>3</th>\n",
       "      <td>136.750000</td>\n",
       "      <td>57.178449</td>\n",
       "      <td>-0.068415</td>\n",
       "      <td>-0.636238</td>\n",
       "      <td>3.642977</td>\n",
       "      <td>20.959280</td>\n",
       "      <td>6.896499</td>\n",
       "      <td>53.593661</td>\n",
       "      <td>0</td>\n",
       "    </tr>\n",
       "    <tr>\n",
       "      <th>4</th>\n",
       "      <td>88.726562</td>\n",
       "      <td>40.672225</td>\n",
       "      <td>0.600866</td>\n",
       "      <td>1.123492</td>\n",
       "      <td>1.178930</td>\n",
       "      <td>11.468720</td>\n",
       "      <td>14.269573</td>\n",
       "      <td>252.567306</td>\n",
       "      <td>0</td>\n",
       "    </tr>\n",
       "    <tr>\n",
       "      <th>...</th>\n",
       "      <td>...</td>\n",
       "      <td>...</td>\n",
       "      <td>...</td>\n",
       "      <td>...</td>\n",
       "      <td>...</td>\n",
       "      <td>...</td>\n",
       "      <td>...</td>\n",
       "      <td>...</td>\n",
       "      <td>...</td>\n",
       "    </tr>\n",
       "    <tr>\n",
       "      <th>17893</th>\n",
       "      <td>136.429688</td>\n",
       "      <td>59.847421</td>\n",
       "      <td>-0.187846</td>\n",
       "      <td>-0.738123</td>\n",
       "      <td>1.296823</td>\n",
       "      <td>12.166062</td>\n",
       "      <td>15.450260</td>\n",
       "      <td>285.931022</td>\n",
       "      <td>0</td>\n",
       "    </tr>\n",
       "    <tr>\n",
       "      <th>17894</th>\n",
       "      <td>122.554688</td>\n",
       "      <td>49.485605</td>\n",
       "      <td>0.127978</td>\n",
       "      <td>0.323061</td>\n",
       "      <td>16.409699</td>\n",
       "      <td>44.626893</td>\n",
       "      <td>2.945244</td>\n",
       "      <td>8.297092</td>\n",
       "      <td>0</td>\n",
       "    </tr>\n",
       "    <tr>\n",
       "      <th>17895</th>\n",
       "      <td>119.335938</td>\n",
       "      <td>59.935939</td>\n",
       "      <td>0.159363</td>\n",
       "      <td>-0.743025</td>\n",
       "      <td>21.430602</td>\n",
       "      <td>58.872000</td>\n",
       "      <td>2.499517</td>\n",
       "      <td>4.595173</td>\n",
       "      <td>0</td>\n",
       "    </tr>\n",
       "    <tr>\n",
       "      <th>17896</th>\n",
       "      <td>114.507812</td>\n",
       "      <td>53.902400</td>\n",
       "      <td>0.201161</td>\n",
       "      <td>-0.024789</td>\n",
       "      <td>1.946488</td>\n",
       "      <td>13.381731</td>\n",
       "      <td>10.007967</td>\n",
       "      <td>134.238910</td>\n",
       "      <td>0</td>\n",
       "    </tr>\n",
       "    <tr>\n",
       "      <th>17897</th>\n",
       "      <td>57.062500</td>\n",
       "      <td>85.797340</td>\n",
       "      <td>1.406391</td>\n",
       "      <td>0.089520</td>\n",
       "      <td>188.306020</td>\n",
       "      <td>64.712562</td>\n",
       "      <td>-1.597527</td>\n",
       "      <td>1.429475</td>\n",
       "      <td>0</td>\n",
       "    </tr>\n",
       "  </tbody>\n",
       "</table>\n",
       "<p>17898 rows × 9 columns</p>\n",
       "</div>"
      ],
      "text/plain": [
       "          Mean IP      SD IP     EK IP     SK IP  Mean DM-SNR  SD DM-SNR  \\\n",
       "0      140.562500  55.683782 -0.234571 -0.699648     3.199833  19.110426   \n",
       "1      102.507812  58.882430  0.465318 -0.515088     1.677258  14.860146   \n",
       "2      103.015625  39.341649  0.323328  1.051164     3.121237  21.744669   \n",
       "3      136.750000  57.178449 -0.068415 -0.636238     3.642977  20.959280   \n",
       "4       88.726562  40.672225  0.600866  1.123492     1.178930  11.468720   \n",
       "...           ...        ...       ...       ...          ...        ...   \n",
       "17893  136.429688  59.847421 -0.187846 -0.738123     1.296823  12.166062   \n",
       "17894  122.554688  49.485605  0.127978  0.323061    16.409699  44.626893   \n",
       "17895  119.335938  59.935939  0.159363 -0.743025    21.430602  58.872000   \n",
       "17896  114.507812  53.902400  0.201161 -0.024789     1.946488  13.381731   \n",
       "17897   57.062500  85.797340  1.406391  0.089520   188.306020  64.712562   \n",
       "\n",
       "       EK DM-SNR   SK DM-SNR  Class  \n",
       "0       7.975532   74.242225      0  \n",
       "1      10.576487  127.393580      0  \n",
       "2       7.735822   63.171909      0  \n",
       "3       6.896499   53.593661      0  \n",
       "4      14.269573  252.567306      0  \n",
       "...          ...         ...    ...  \n",
       "17893  15.450260  285.931022      0  \n",
       "17894   2.945244    8.297092      0  \n",
       "17895   2.499517    4.595173      0  \n",
       "17896  10.007967  134.238910      0  \n",
       "17897  -1.597527    1.429475      0  \n",
       "\n",
       "[17898 rows x 9 columns]"
      ]
     },
     "execution_count": 348,
     "metadata": {},
     "output_type": "execute_result"
    }
   ],
   "source": [
    "pulsars"
   ]
  },
  {
   "cell_type": "code",
   "execution_count": 349,
   "id": "ed940eeb",
   "metadata": {},
   "outputs": [
    {
     "data": {
      "text/html": [
       "<div>\n",
       "<style scoped>\n",
       "    .dataframe tbody tr th:only-of-type {\n",
       "        vertical-align: middle;\n",
       "    }\n",
       "\n",
       "    .dataframe tbody tr th {\n",
       "        vertical-align: top;\n",
       "    }\n",
       "\n",
       "    .dataframe thead th {\n",
       "        text-align: right;\n",
       "    }\n",
       "</style>\n",
       "<table border=\"1\" class=\"dataframe\">\n",
       "  <thead>\n",
       "    <tr style=\"text-align: right;\">\n",
       "      <th></th>\n",
       "      <th>Mean IP</th>\n",
       "      <th>SD IP</th>\n",
       "      <th>EK IP</th>\n",
       "      <th>SK IP</th>\n",
       "      <th>Mean DM-SNR</th>\n",
       "      <th>SD DM-SNR</th>\n",
       "      <th>EK DM-SNR</th>\n",
       "      <th>SK DM-SNR</th>\n",
       "      <th>Class</th>\n",
       "    </tr>\n",
       "  </thead>\n",
       "  <tbody>\n",
       "    <tr>\n",
       "      <th>count</th>\n",
       "      <td>17898.000000</td>\n",
       "      <td>17898.000000</td>\n",
       "      <td>17898.000000</td>\n",
       "      <td>17898.000000</td>\n",
       "      <td>17898.000000</td>\n",
       "      <td>17898.000000</td>\n",
       "      <td>17898.000000</td>\n",
       "      <td>17898.000000</td>\n",
       "      <td>17898.000000</td>\n",
       "    </tr>\n",
       "    <tr>\n",
       "      <th>mean</th>\n",
       "      <td>111.079968</td>\n",
       "      <td>46.549532</td>\n",
       "      <td>0.477857</td>\n",
       "      <td>1.770279</td>\n",
       "      <td>12.614400</td>\n",
       "      <td>26.326515</td>\n",
       "      <td>8.303556</td>\n",
       "      <td>104.857709</td>\n",
       "      <td>0.091574</td>\n",
       "    </tr>\n",
       "    <tr>\n",
       "      <th>std</th>\n",
       "      <td>25.652935</td>\n",
       "      <td>6.843189</td>\n",
       "      <td>1.064040</td>\n",
       "      <td>6.167913</td>\n",
       "      <td>29.472897</td>\n",
       "      <td>19.470572</td>\n",
       "      <td>4.506092</td>\n",
       "      <td>106.514540</td>\n",
       "      <td>0.288432</td>\n",
       "    </tr>\n",
       "    <tr>\n",
       "      <th>min</th>\n",
       "      <td>5.812500</td>\n",
       "      <td>24.772042</td>\n",
       "      <td>-1.876011</td>\n",
       "      <td>-1.791886</td>\n",
       "      <td>0.213211</td>\n",
       "      <td>7.370432</td>\n",
       "      <td>-3.139270</td>\n",
       "      <td>-1.976976</td>\n",
       "      <td>0.000000</td>\n",
       "    </tr>\n",
       "    <tr>\n",
       "      <th>25%</th>\n",
       "      <td>100.929688</td>\n",
       "      <td>42.376018</td>\n",
       "      <td>0.027098</td>\n",
       "      <td>-0.188572</td>\n",
       "      <td>1.923077</td>\n",
       "      <td>14.437332</td>\n",
       "      <td>5.781506</td>\n",
       "      <td>34.960504</td>\n",
       "      <td>0.000000</td>\n",
       "    </tr>\n",
       "    <tr>\n",
       "      <th>50%</th>\n",
       "      <td>115.078125</td>\n",
       "      <td>46.947479</td>\n",
       "      <td>0.223240</td>\n",
       "      <td>0.198710</td>\n",
       "      <td>2.801839</td>\n",
       "      <td>18.461316</td>\n",
       "      <td>8.433515</td>\n",
       "      <td>83.064556</td>\n",
       "      <td>0.000000</td>\n",
       "    </tr>\n",
       "    <tr>\n",
       "      <th>75%</th>\n",
       "      <td>127.085938</td>\n",
       "      <td>51.023202</td>\n",
       "      <td>0.473325</td>\n",
       "      <td>0.927783</td>\n",
       "      <td>5.464256</td>\n",
       "      <td>28.428104</td>\n",
       "      <td>10.702959</td>\n",
       "      <td>139.309330</td>\n",
       "      <td>0.000000</td>\n",
       "    </tr>\n",
       "    <tr>\n",
       "      <th>max</th>\n",
       "      <td>192.617188</td>\n",
       "      <td>98.778911</td>\n",
       "      <td>8.069522</td>\n",
       "      <td>68.101622</td>\n",
       "      <td>223.392141</td>\n",
       "      <td>110.642211</td>\n",
       "      <td>34.539844</td>\n",
       "      <td>1191.000837</td>\n",
       "      <td>1.000000</td>\n",
       "    </tr>\n",
       "  </tbody>\n",
       "</table>\n",
       "</div>"
      ],
      "text/plain": [
       "            Mean IP         SD IP         EK IP         SK IP   Mean DM-SNR  \\\n",
       "count  17898.000000  17898.000000  17898.000000  17898.000000  17898.000000   \n",
       "mean     111.079968     46.549532      0.477857      1.770279     12.614400   \n",
       "std       25.652935      6.843189      1.064040      6.167913     29.472897   \n",
       "min        5.812500     24.772042     -1.876011     -1.791886      0.213211   \n",
       "25%      100.929688     42.376018      0.027098     -0.188572      1.923077   \n",
       "50%      115.078125     46.947479      0.223240      0.198710      2.801839   \n",
       "75%      127.085938     51.023202      0.473325      0.927783      5.464256   \n",
       "max      192.617188     98.778911      8.069522     68.101622    223.392141   \n",
       "\n",
       "          SD DM-SNR     EK DM-SNR     SK DM-SNR         Class  \n",
       "count  17898.000000  17898.000000  17898.000000  17898.000000  \n",
       "mean      26.326515      8.303556    104.857709      0.091574  \n",
       "std       19.470572      4.506092    106.514540      0.288432  \n",
       "min        7.370432     -3.139270     -1.976976      0.000000  \n",
       "25%       14.437332      5.781506     34.960504      0.000000  \n",
       "50%       18.461316      8.433515     83.064556      0.000000  \n",
       "75%       28.428104     10.702959    139.309330      0.000000  \n",
       "max      110.642211     34.539844   1191.000837      1.000000  "
      ]
     },
     "execution_count": 349,
     "metadata": {},
     "output_type": "execute_result"
    }
   ],
   "source": [
    "pulsars.describe()"
   ]
  },
  {
   "cell_type": "markdown",
   "id": "b57a5e14",
   "metadata": {},
   "source": [
    "# Exploratory Analysis\n"
   ]
  },
  {
   "cell_type": "code",
   "execution_count": 350,
   "id": "bf1cf8f7",
   "metadata": {
    "scrolled": false
   },
   "outputs": [
    {
     "data": {
      "text/plain": [
       "array([[<AxesSubplot:title={'center':'Mean IP'}>,\n",
       "        <AxesSubplot:title={'center':'SD IP'}>,\n",
       "        <AxesSubplot:title={'center':'EK IP'}>],\n",
       "       [<AxesSubplot:title={'center':'SK IP'}>,\n",
       "        <AxesSubplot:title={'center':'Mean DM-SNR'}>,\n",
       "        <AxesSubplot:title={'center':'SD DM-SNR'}>],\n",
       "       [<AxesSubplot:title={'center':'EK DM-SNR'}>,\n",
       "        <AxesSubplot:title={'center':'SK DM-SNR'}>,\n",
       "        <AxesSubplot:title={'center':'Class'}>]], dtype=object)"
      ]
     },
     "execution_count": 350,
     "metadata": {},
     "output_type": "execute_result"
    },
    {
     "data": {
      "image/png": "[encoded data removed]",
      "text/plain": [
       "<Figure size 864x864 with 9 Axes>"
      ]
     },
     "metadata": {
      "needs_background": "light"
     },
     "output_type": "display_data"
    }
   ],
   "source": [
    "pulsars.hist(figsize=(12,12))"
   ]
  },
  {
   "cell_type": "code",
   "execution_count": 351,
   "id": "e16f222a",
   "metadata": {},
   "outputs": [],
   "source": [
    "corrPearson = pulsars.corr(method=\"pearson\")"
   ]
  },
  {
   "cell_type": "code",
   "execution_count": 352,
   "id": "73a1c826",
   "metadata": {
    "scrolled": false
   },
   "outputs": [
    {
     "data": {
      "image/png": "[encoded data removed]",
      "text/plain": [
       "<Figure size 1080x576 with 2 Axes>"
      ]
     },
     "metadata": {
      "needs_background": "light"
     },
     "output_type": "display_data"
    }
   ],
   "source": [
    "figure = plt.figure(figsize=(15,8))\n",
    "sns.heatmap(corrPearson,annot=True)\n",
    "plt.show()"
   ]
  },
  {
   "cell_type": "markdown",
   "id": "e2820e5a",
   "metadata": {},
   "source": [
    "It's hard to determine whether the correlations are significant without comparing to the p-value, but there appear to be some strong positive and negative correlations between variables."
   ]
  },
  {
   "cell_type": "markdown",
   "id": "c69d1b9a",
   "metadata": {},
   "source": [
    "# Visualizing Class "
   ]
  },
  {
   "cell_type": "code",
   "execution_count": 353,
   "id": "6766f9d5",
   "metadata": {
    "scrolled": false
   },
   "outputs": [
    {
     "data": {
      "text/plain": [
       "<AxesSubplot:xlabel='Class', ylabel='count'>"
      ]
     },
     "execution_count": 353,
     "metadata": {},
     "output_type": "execute_result"
    },
    {
     "data": {
      "image/png": "[encoded data removed]",
      "text/plain": [
       "<Figure size 432x288 with 1 Axes>"
      ]
     },
     "metadata": {
      "needs_background": "light"
     },
     "output_type": "display_data"
    }
   ],
   "source": [
    "sns.countplot(x='Class', data=pulsars)"
   ]
  },
  {
   "cell_type": "code",
   "execution_count": null,
   "id": "88e7b6e7",
   "metadata": {
    "scrolled": true
   },
   "outputs": [],
   "source": [
    "sns.pairplot(data=pulsars, hue='Class');\n",
    "\n",
    "plt.suptitle('Pair Plot of Pulsars Dataset', \n",
    "             size = 40);"
   ]
  },
  {
   "cell_type": "markdown",
   "id": "0ff92501",
   "metadata": {},
   "source": [
    "There seem to be very distinct relationships between Class and the independent variables. This seems to suggest that it should be possible to build a model to predict the Class with this data. "
   ]
  },
  {
   "cell_type": "markdown",
   "id": "b64135c2",
   "metadata": {},
   "source": [
    "# Visualizing Outliers"
   ]
  },
  {
   "cell_type": "code",
   "execution_count": null,
   "id": "a2d0256d",
   "metadata": {
    "scrolled": false
   },
   "outputs": [],
   "source": [
    "continous_features = list(set(pulsars.columns) - set(['Class']))\n",
    "continous_features.sort()\n",
    "continous_features\n",
    "\n",
    "for i in range(len(continous_features)):\n",
    "  feature = continous_features[i]\n",
    "  plt.figure(figsize = (10, 5))\n",
    "  sns.boxplot(x = 'Class', y = continous_features[i], data = pulsars)\n",
    "  plt.grid()\n",
    "  plt.show()"
   ]
  },
  {
   "cell_type": "markdown",
   "id": "f6c57e05",
   "metadata": {},
   "source": [
    "There are quite a few more outliers in the 0 Class than in the 1 Class. It doesn't seem to be enough to skew the data, but it will be noted in case the model doesn't work like it should. "
   ]
  },
  {
   "cell_type": "markdown",
   "id": "2853428a",
   "metadata": {},
   "source": [
    "# Setting up the Machine Learning Model.\n",
    "# Setting x and y "
   ]
  },
  {
   "cell_type": "code",
   "execution_count": null,
   "id": "1f96d6ca",
   "metadata": {},
   "outputs": [],
   "source": [
    "x = pulsars.drop('Class', axis=1)\n",
    "y = pulsars['Class']"
   ]
  },
  {
   "cell_type": "code",
   "execution_count": null,
   "id": "72c5a2c7",
   "metadata": {},
   "outputs": [],
   "source": [
    "x.head()"
   ]
  },
  {
   "cell_type": "code",
   "execution_count": null,
   "id": "f8f8c62e",
   "metadata": {},
   "outputs": [],
   "source": [
    "y.head()"
   ]
  },
  {
   "cell_type": "markdown",
   "id": "a641397d",
   "metadata": {},
   "source": [
    "# Possible Unique Values of the Class to be Predicted"
   ]
  },
  {
   "cell_type": "code",
   "execution_count": null,
   "id": "bae9ed57",
   "metadata": {},
   "outputs": [],
   "source": [
    "print(y.unique())"
   ]
  },
  {
   "cell_type": "markdown",
   "id": "93410697",
   "metadata": {},
   "source": [
    "# Train, Test, Split"
   ]
  },
  {
   "cell_type": "code",
   "execution_count": null,
   "id": "9b342baf",
   "metadata": {},
   "outputs": [],
   "source": [
    "x_train, x_test, y_train, y_test = train_test_split(x,y, test_size=0.3, random_state=101)"
   ]
  },
  {
   "cell_type": "markdown",
   "id": "b5534d82",
   "metadata": {},
   "source": [
    "Show the shape of the target class for train and test"
   ]
  },
  {
   "cell_type": "code",
   "execution_count": null,
   "id": "41f103df",
   "metadata": {},
   "outputs": [],
   "source": [
    "print(y_train.shape)\n",
    "print(y_test.shape)"
   ]
  },
  {
   "cell_type": "markdown",
   "id": "3a9bdbef",
   "metadata": {},
   "source": [
    "# Trying a Single Decision Tree"
   ]
  },
  {
   "cell_type": "code",
   "execution_count": null,
   "id": "6c5cc15a",
   "metadata": {},
   "outputs": [],
   "source": [
    "decisionTree = DecisionTreeClassifier(random_state=101)\n",
    "decisionTree.fit(x_train, y_train)"
   ]
  },
  {
   "cell_type": "markdown",
   "id": "7c196de3",
   "metadata": {},
   "source": [
    "# Assess the Model"
   ]
  },
  {
   "cell_type": "markdown",
   "id": "08cfb7ad",
   "metadata": {},
   "source": [
    "Printing the confusion matrix"
   ]
  },
  {
   "cell_type": "code",
   "execution_count": null,
   "id": "b48b1e32",
   "metadata": {
    "scrolled": true
   },
   "outputs": [],
   "source": [
    "treePredictions = decisionTree.predict(x_test)\n",
    "print(confusion_matrix(y_test, treePredictions))"
   ]
  },
  {
   "cell_type": "markdown",
   "id": "f4f5f64c",
   "metadata": {},
   "source": [
    "Printing the classification report"
   ]
  },
  {
   "cell_type": "code",
   "execution_count": null,
   "id": "59f06242",
   "metadata": {},
   "outputs": [],
   "source": [
    "print(classification_report(y_test, treePredictions))"
   ]
  },
  {
   "cell_type": "markdown",
   "id": "6dd82723",
   "metadata": {},
   "source": [
    "Precision and accuracy are good, but could be better\n",
    "# Next, the Random Forest"
   ]
  },
  {
   "cell_type": "markdown",
   "id": "ea2d793b",
   "metadata": {},
   "source": [
    "Loading the data back in"
   ]
  },
  {
   "cell_type": "code",
   "execution_count": null,
   "id": "925ed787",
   "metadata": {},
   "outputs": [],
   "source": [
    "pulsars_column = [\"Mean IP\", \"SD IP\", \"EK IP\", \"SK IP\", \"Mean DM-SNR\", \"SD DM-SNR\", \"EK DM-SNR\", \"SK DM-SNR\", \"Class\"]"
   ]
  },
  {
   "cell_type": "code",
   "execution_count": null,
   "id": "c2c509ee",
   "metadata": {},
   "outputs": [],
   "source": [
    "pulsars = pd.read_csv(\"Data/HTRU_2.csv\", names=pulsars_column)"
   ]
  },
  {
   "cell_type": "code",
   "execution_count": null,
   "id": "ab00bcf4",
   "metadata": {},
   "outputs": [],
   "source": [
    "x1 = pulsars.drop('Class', axis=1)\n",
    "y1 = pulsars['Class']"
   ]
  },
  {
   "cell_type": "markdown",
   "id": "7043a47b",
   "metadata": {},
   "source": [
    "# Train, Test, Split"
   ]
  },
  {
   "cell_type": "code",
   "execution_count": null,
   "id": "0c7d0f86",
   "metadata": {},
   "outputs": [],
   "source": [
    "x_train1, x_test1, y_train1, y_test1 = train_test_split(x1,y1, test_size=0.3, random_state=101)"
   ]
  },
  {
   "cell_type": "markdown",
   "id": "c699cb33",
   "metadata": {},
   "source": [
    "Show the shape of the target class for train and test"
   ]
  },
  {
   "cell_type": "code",
   "execution_count": null,
   "id": "442afe13",
   "metadata": {},
   "outputs": [],
   "source": [
    "print(y_train1.shape)\n",
    "print(y_test1.shape)"
   ]
  },
  {
   "cell_type": "markdown",
   "id": "cfbc05dc",
   "metadata": {},
   "source": [
    "# Set up the Random Forest Model"
   ]
  },
  {
   "cell_type": "code",
   "execution_count": null,
   "id": "9a002f31",
   "metadata": {},
   "outputs": [],
   "source": [
    "forest = RandomForestClassifier(n_estimators=500, random_state=101)\n",
    "forest.fit(x_train1, y_train1)"
   ]
  },
  {
   "cell_type": "markdown",
   "id": "32c46ca0",
   "metadata": {},
   "source": [
    "Printing the confusion matrix"
   ]
  },
  {
   "cell_type": "code",
   "execution_count": null,
   "id": "ef1f31c8",
   "metadata": {
    "scrolled": true
   },
   "outputs": [],
   "source": [
    "forestPredictions = forest.predict(x_test1)\n",
    "print(confusion_matrix(y_test1, forestPredictions))"
   ]
  },
  {
   "cell_type": "markdown",
   "id": "17ffcd9b",
   "metadata": {},
   "source": [
    "Printing the classification report"
   ]
  },
  {
   "cell_type": "code",
   "execution_count": null,
   "id": "cf0d238b",
   "metadata": {},
   "outputs": [],
   "source": [
    "print(classification_report(y_test1, forestPredictions))"
   ]
  },
  {
   "cell_type": "markdown",
   "id": "22e98929",
   "metadata": {},
   "source": [
    "Accuracy is already better, but it can be further improved with hyparameter tuning."
   ]
  },
  {
   "cell_type": "markdown",
   "id": "da3098b4",
   "metadata": {},
   "source": [
    "# Hyperparameter Tuning"
   ]
  },
  {
   "cell_type": "markdown",
   "id": "d7745309",
   "metadata": {},
   "source": [
    "Determine the best number of trees for the model. The closer to 1, the more accuate the model will be. "
   ]
  },
  {
   "cell_type": "code",
   "execution_count": null,
   "id": "fc12c301",
   "metadata": {
    "scrolled": false
   },
   "outputs": [],
   "source": [
    "n_estimators_array = [1, 4, 5, 8, 10, 20, 50, 75, 100, 250, 500]\n",
    "results = []\n",
    "for n in n_estimators_array:\n",
    "    forest = RandomForestClassifier(n_estimators=n, random_state=101)\n",
    "    forest.fit(x_train1, y_train1)\n",
    "    result = accuracy_score(y_test1, forest.predict(x_test1))\n",
    "    results.append(result) \n",
    "    print(n, ':', result)\n",
    "    \n",
    "plt.plot(n_estimators_array, results)"
   ]
  },
  {
   "cell_type": "markdown",
   "id": "988321a4",
   "metadata": {},
   "source": [
    "The model looks the most accurate when using 50 trees. "
   ]
  },
  {
   "cell_type": "markdown",
   "id": "c0f928b6",
   "metadata": {},
   "source": [
    "# Tuning the Remaining Three Values"
   ]
  },
  {
   "cell_type": "markdown",
   "id": "f2104d24",
   "metadata": {},
   "source": [
    "Creating a list with all the values that will be trialed"
   ]
  },
  {
   "cell_type": "code",
   "execution_count": null,
   "id": "40c228c2",
   "metadata": {},
   "outputs": [],
   "source": [
    "# Number of features to consider at every split\n",
    "max_features = ['auto', None, 'log2']\n",
    "# Maximum number of levels in tree\n",
    "max_depth = [10, 20, 30, 40, 50, 60, 70, 80, 90, None]\n",
    "# Minimum number of samples required at each leaf node\n",
    "min_samples_leaf = [1, 2, 4]\n",
    "# Method of selecting samples for training each tree\n",
    "random_grid = {'max_features': max_features,\n",
    "               'max_depth': max_depth,\n",
    "               'min_samples_leaf': min_samples_leaf}\n",
    "print(random_grid)"
   ]
  },
  {
   "cell_type": "markdown",
   "id": "a07bf58f",
   "metadata": {},
   "source": [
    "Running a random seach of the random_grid, using RandomizedSearchCV( )"
   ]
  },
  {
   "cell_type": "code",
   "execution_count": null,
   "id": "d1653669",
   "metadata": {},
   "outputs": [],
   "source": [
    "rf = RandomForestClassifier(n_estimators=50)\n",
    "rf_random = RandomizedSearchCV(estimator = rf, param_distributions = random_grid, n_iter = 90, cv = 3, random_state=101)"
   ]
  },
  {
   "cell_type": "markdown",
   "id": "9015ab38",
   "metadata": {},
   "source": [
    "Fitting to the model"
   ]
  },
  {
   "cell_type": "code",
   "execution_count": null,
   "id": "b8cd8f87",
   "metadata": {},
   "outputs": [],
   "source": [
    "rf_random.fit(x_train1, y_train1)"
   ]
  },
  {
   "cell_type": "markdown",
   "id": "1ecda7b1",
   "metadata": {},
   "source": [
    "Now to see which hyperameters produced the best accuracy"
   ]
  },
  {
   "cell_type": "code",
   "execution_count": null,
   "id": "e62ccd46",
   "metadata": {
    "scrolled": false
   },
   "outputs": [],
   "source": [
    "rf_random.best_params_"
   ]
  },
  {
   "cell_type": "markdown",
   "id": "0164ab23",
   "metadata": {},
   "source": [
    "NOTE: There are issues with consistency here. More research will have to be done to ensure that the output is consistent and to ensure that the most accurate model is created. This code will proceed using results have previously proven to give the most accurate model. "
   ]
  },
  {
   "cell_type": "markdown",
   "id": "8ff30597",
   "metadata": {},
   "source": [
    "This means that the model with the best accuracy has at least 2 samples per leaf, leaves the max features setting on log2, and has a maximum depth of 10."
   ]
  },
  {
   "cell_type": "markdown",
   "id": "4dcbd3cb",
   "metadata": {},
   "source": [
    "So, lets put that into our model."
   ]
  },
  {
   "cell_type": "code",
   "execution_count": null,
   "id": "fc3eddb6",
   "metadata": {},
   "outputs": [],
   "source": [
    "forest = RandomForestClassifier(n_estimators=50, min_samples_leaf=2, max_features=\"log2\", max_depth=10)\n",
    "forest.fit(x_train1, y_train1)"
   ]
  },
  {
   "cell_type": "markdown",
   "id": "58a96213",
   "metadata": {},
   "source": [
    "Now, to see if our model has improved results. "
   ]
  },
  {
   "cell_type": "code",
   "execution_count": null,
   "id": "ebeeea6d",
   "metadata": {},
   "outputs": [],
   "source": [
    "forestPredictions = forest.predict(x_test1)\n",
    "print(confusion_matrix(y_test1, forestPredictions))\n",
    "print(classification_report(y_test1, forestPredictions))"
   ]
  },
  {
   "cell_type": "markdown",
   "id": "3892a467",
   "metadata": {},
   "source": [
    "After running hyperparameter tuning, I found that the model is the most accurate when the number of trees = 50, the min_samples_leaf = 4, max_features = log2, and max_depth = 10."
   ]
  },
  {
   "cell_type": "markdown",
   "id": "cfff9ef7",
   "metadata": {},
   "source": [
    "# Feature Importance"
   ]
  },
  {
   "cell_type": "markdown",
   "id": "28552a30",
   "metadata": {},
   "source": [
    "Using stepwise regression to determine which variables are the most important doesn't work with machine learning, so feature importance can be run."
   ]
  },
  {
   "cell_type": "code",
   "execution_count": null,
   "id": "8f1a8bf5",
   "metadata": {},
   "outputs": [],
   "source": [
    "feature_importances = pd.Series(forest.feature_importances_, index=x1.columns)\n",
    "feature_importances\n",
    "feature_importances.sort_values(inplace=True)\n",
    "print(feature_importances)"
   ]
  },
  {
   "cell_type": "markdown",
   "id": "8095c21b",
   "metadata": {},
   "source": [
    "Plotting feature importance"
   ]
  },
  {
   "cell_type": "code",
   "execution_count": null,
   "id": "50eceb12",
   "metadata": {
    "scrolled": false
   },
   "outputs": [],
   "source": [
    "feature_importances.plot(kind='barh', figsize=(7,6))\n",
    "\n",
    "plt.xlabel('Importance')\n",
    "plt.ylabel('Variable')\n",
    "plt.title('Feature Importance of Each X Variable')\n",
    "plt.grid(False)"
   ]
  },
  {
   "cell_type": "markdown",
   "id": "f84fd25a",
   "metadata": {},
   "source": [
    "# Running the Model Without SK DM-SNR\n",
    "\n",
    "Since they have very little significance, it's worth running the model without them to see if their columns can be dropped."
   ]
  },
  {
   "cell_type": "code",
   "execution_count": null,
   "id": "6311f9c3",
   "metadata": {},
   "outputs": [],
   "source": [
    "x_drop_SK = x1.drop('SK DM-SNR', axis=1)\n",
    "y2 = pulsars['Class']"
   ]
  },
  {
   "cell_type": "code",
   "execution_count": null,
   "id": "5baabc18",
   "metadata": {},
   "outputs": [],
   "source": [
    "x_drop_SK"
   ]
  },
  {
   "cell_type": "code",
   "execution_count": null,
   "id": "55e38b51",
   "metadata": {},
   "outputs": [],
   "source": [
    "x_train2, x_test2, y_train2, y_test2 = train_test_split(x1,y1, test_size=0.3, random_state=101)"
   ]
  },
  {
   "cell_type": "code",
   "execution_count": null,
   "id": "b89f088d",
   "metadata": {},
   "outputs": [],
   "source": [
    "forest1 = RandomForestClassifier(n_estimators=50, min_samples_leaf=2, max_features=\"log2\", max_depth=10)\n",
    "forest1.fit(x_train2, y_train2)"
   ]
  },
  {
   "cell_type": "code",
   "execution_count": null,
   "id": "41205bb3",
   "metadata": {},
   "outputs": [],
   "source": [
    "forest1Predictions = forest1.predict(x_test2)\n",
    "print(confusion_matrix(y_test2, forest1Predictions))\n",
    "print(classification_report(y_test2, forest1Predictions))"
   ]
  },
  {
   "cell_type": "markdown",
   "id": "5c62ca67",
   "metadata": {},
   "source": [
    "Precision and accuracy are nearly unchanged, so we can likely remove these variables from the model without negatively affecting the model. Further tuning will be required to know for sure. "
   ]
  },
  {
   "cell_type": "markdown",
   "id": "a6b579bb",
   "metadata": {},
   "source": [
    "# Conclusion\n",
    "\n",
    "The model is accurate enough to be used for reliable pulsar prediction. However, due to the importance of finding pulsars, more work should be done to find an even more accurate model. \n",
    "\n",
    "The data could also be scaled to increase accuracy."
   ]
  },
  {
   "cell_type": "markdown",
   "id": "ffeb26c6",
   "metadata": {},
   "source": [
    "# What's next?"
   ]
  },
  {
   "cell_type": "markdown",
   "id": "31e1dc30",
   "metadata": {},
   "source": [
    "A web app was designed to make it easier to test for pulsars without having to run a model every time."
   ]
  },
  {
   "cell_type": "code",
   "execution_count": null,
   "id": "a1f8b5c2",
   "metadata": {},
   "outputs": [],
   "source": [
    "%%html\n",
    "<iframe src=\"https://predicting-a-pulsar-star.herokuapp.com\" width=\"800\" height=\"1000\"></iframe>"
   ]
  },
  {
   "cell_type": "markdown",
   "id": "e844feae",
   "metadata": {},
   "source": [
    "# Auto ML\n",
    "\n",
    "I plan on installing auto-sklearn and run it on this dataset. \n",
    "\n",
    "sklearn import automl\n",
    "\n",
    "build vm or Ubuntu workaround"
   ]
  },
  {
   "cell_type": "markdown",
   "id": "ce4609e4",
   "metadata": {},
   "source": [
    "# Testing Cross Validation\n",
    "\n",
    "I'm tried cross validation on this dataset, but ran out of time to complete it. I'll also do some work on this and see if it can help make the prediction more accurate. "
   ]
  },
  {
   "cell_type": "markdown",
   "id": "438e52a9",
   "metadata": {},
   "source": [
    "model = RandomForestClassifier(random_state=1)\n",
    "cv = cross_validate(model, x_train, y_train, cv=5)\n",
    "print(cv['Class'])\n",
    "print(cv['Class'].mean())"
   ]
  },
  {
   "cell_type": "markdown",
   "id": "341f2d11",
   "metadata": {},
   "source": [
    "# Tensorflow\n",
    "I tried running TF, but the kernel kept dying. Once I can get that straightened out, I'll try using it on the dataset."
   ]
  },
  {
   "cell_type": "code",
   "execution_count": null,
   "id": "b92a1184",
   "metadata": {},
   "outputs": [],
   "source": [
    "from sklearn import tree\n",
    "tree_clf = tree.DecisionTreeClassifier(max_depth=6, random_state=123,criterion='entropy')\n",
    "forest1(tree_clf,x_train,y_train)"
   ]
  },
  {
   "cell_type": "markdown",
   "id": "bd5b56e1",
   "metadata": {},
   "source": [
    "# Running the Model on Another Dataset\n",
    "\n",
    "This model will be run on other datasets, like this one.\n",
    "A model will be built to see if a person makes over $50,000 just like we predicted pulsars. \n",
    "\n",
    "This [dataset](https://www.kaggle.com/uciml/adult-census-income) and much of the [code](https://www.kaggle.com/jilkothari/prediction-of-income-with-98-accuracy) for the inital data wrangling is from Kaggle. "
   ]
  },
  {
   "cell_type": "code",
   "execution_count": null,
   "id": "536a1495",
   "metadata": {},
   "outputs": [],
   "source": [
    "adult = pd.read_csv('Data/adult.csv')"
   ]
  },
  {
   "cell_type": "code",
   "execution_count": null,
   "id": "093f1b91",
   "metadata": {},
   "outputs": [],
   "source": [
    "adult.head()"
   ]
  },
  {
   "cell_type": "code",
   "execution_count": null,
   "id": "b946b278",
   "metadata": {},
   "outputs": [],
   "source": [
    "adult['income']=adult['income'].map({'<=50K': 0, '>50K': 1})"
   ]
  },
  {
   "cell_type": "markdown",
   "id": "78828a66",
   "metadata": {},
   "source": [
    "Since there are some question marks, we'll replace that with NaN and then replace the Nan values after."
   ]
  },
  {
   "cell_type": "code",
   "execution_count": null,
   "id": "4f79b207",
   "metadata": {},
   "outputs": [],
   "source": [
    "adult.replace('?',np.nan, inplace=True)"
   ]
  },
  {
   "cell_type": "code",
   "execution_count": null,
   "id": "4083116a",
   "metadata": {},
   "outputs": [],
   "source": [
    "adult['occupation'].describe()"
   ]
  },
  {
   "cell_type": "code",
   "execution_count": null,
   "id": "c70f5c4b",
   "metadata": {},
   "outputs": [],
   "source": [
    "adult['occupation'] = adult['occupation'].fillna('Prof-specialty')"
   ]
  },
  {
   "cell_type": "code",
   "execution_count": null,
   "id": "980cccd3",
   "metadata": {},
   "outputs": [],
   "source": [
    "adult['workclass'].describe()"
   ]
  },
  {
   "cell_type": "code",
   "execution_count": null,
   "id": "f2e8df12",
   "metadata": {},
   "outputs": [],
   "source": [
    "adult['workclass'] = adult['workclass'].fillna('Private')"
   ]
  },
  {
   "cell_type": "code",
   "execution_count": null,
   "id": "e5290618",
   "metadata": {},
   "outputs": [],
   "source": [
    "adult['native.country'].describe()"
   ]
  },
  {
   "cell_type": "code",
   "execution_count": null,
   "id": "2b19352f",
   "metadata": {},
   "outputs": [],
   "source": [
    "adult['native.country'] = adult['native.country'].fillna('United-States')"
   ]
  },
  {
   "cell_type": "code",
   "execution_count": null,
   "id": "919655e1",
   "metadata": {},
   "outputs": [],
   "source": [
    "adult.drop(['education.num'], axis = 1, inplace = True)\n",
    "adult['education'].replace(['11th', '9th', '7th-8th', '5th-6th', '10th', '1st-4th', 'Preschool', '12th'],\n",
    "                             ' School', inplace = True)\n",
    "adult['education'].value_counts()"
   ]
  },
  {
   "cell_type": "markdown",
   "id": "41313dff",
   "metadata": {},
   "source": [
    "Data exploration can be added to this notebook later. For the sake of time, I'll proceed to building the machine learning model. "
   ]
  },
  {
   "cell_type": "code",
   "execution_count": null,
   "id": "a1379753",
   "metadata": {},
   "outputs": [],
   "source": [
    "x2 = adult.drop('income', axis=1)\n",
    "y2 = adult['income']"
   ]
  },
  {
   "cell_type": "code",
   "execution_count": null,
   "id": "ac24ef91",
   "metadata": {
    "scrolled": true
   },
   "outputs": [],
   "source": [
    "x2"
   ]
  },
  {
   "cell_type": "code",
   "execution_count": null,
   "id": "43be6a4f",
   "metadata": {},
   "outputs": [],
   "source": [
    "y2"
   ]
  },
  {
   "cell_type": "markdown",
   "id": "c068880d",
   "metadata": {},
   "source": [
    "# Train test split"
   ]
  },
  {
   "cell_type": "code",
   "execution_count": null,
   "id": "a455da51",
   "metadata": {},
   "outputs": [],
   "source": [
    "x_train3, x_test3, y_train3, y_test3 = train_test_split(x2,y2, test_size=0.3, random_state=101)"
   ]
  },
  {
   "cell_type": "code",
   "execution_count": null,
   "id": "294b8a2f",
   "metadata": {},
   "outputs": [],
   "source": [
    "from sklearn import preprocessing\n",
    "\n",
    "categorical = ['workclass','education', 'marital.status', 'occupation', 'relationship','race', 'sex','native.country']\n",
    "for feature in categorical:\n",
    "        le = preprocessing.LabelEncoder()\n",
    "        x_train3[feature] = le.fit_transform(x_train3[feature])\n",
    "        x_test3[feature] = le.transform(x_test3[feature])"
   ]
  },
  {
   "cell_type": "code",
   "execution_count": null,
   "id": "c3add463",
   "metadata": {},
   "outputs": [],
   "source": [
    "forest2 = RandomForestClassifier(n_estimators=500, random_state=101)\n",
    "forest2.fit(x_train3, y_train3)"
   ]
  },
  {
   "cell_type": "code",
   "execution_count": null,
   "id": "ba50d4fc",
   "metadata": {
    "scrolled": true
   },
   "outputs": [],
   "source": [
    "forestPredictions = forest2.predict(x_test3)\n",
    "print(confusion_matrix(y_test3, forestPredictions))\n",
    "print(classification_report(y_test3, forestPredictions))"
   ]
  },
  {
   "cell_type": "markdown",
   "id": "4763871f",
   "metadata": {},
   "source": [
    "The errors need to be sorted out, but the model has potential."
   ]
  }
 ],
 "metadata": {
  "kernelspec": {
   "display_name": "Python 3",
   "language": "python",
   "name": "python3"
  },
  "language_info": {
   "codemirror_mode": {
    "name": "ipython",
    "version": 3
   },
   "file_extension": ".py",
   "mimetype": "text/x-python",
   "name": "python",
   "nbconvert_exporter": "python",
   "pygments_lexer": "ipython3",
   "version": "3.9.5"
  }
 },
 "nbformat": 4,
 "nbformat_minor": 5
}
