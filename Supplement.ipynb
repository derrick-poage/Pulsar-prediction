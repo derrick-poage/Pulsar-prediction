{
 "cells": [
  {
   "cell_type": "code",
   "execution_count": 4,
   "id": "18ef87fe",
   "metadata": {},
   "outputs": [],
   "source": [
    "import pandas as pd\n",
    "from tabulate import tabulate\n",
    "import prettytable as"
   ]
  },
  {
   "cell_type": "code",
   "execution_count": null,
   "id": "0fd2c8a8",
   "metadata": {},
   "outputs": [],
   "source": []
  },
  {
   "cell_type": "markdown",
   "id": "e63650fc",
   "metadata": {},
   "source": [
    "This is the table for column names. "
   ]
  },
  {
   "cell_type": "code",
   "execution_count": 5,
   "id": "5581dd11",
   "metadata": {},
   "outputs": [],
   "source": [
    "pulsar_column = [['Abbreviation', 'Meaning'],['Mean IP', 'Mean of the Integrated Profile'], ['SD IP', 'Standard Deviation of the Integrated Profile'], ['EK IP', 'Excess Kurtosis of the Integrated Profile'], ['SK IP', 'Skewness of the Integrated Profile'], ['Mean DM-SNR', 'Mean of the DM-SNR Curve'], ['SD DM-SNR', 'Standard Deviation of the DM-SNR Curve'], ['EK DM-SNR', 'Excess Kurtosis of the DM-SNR Curve'], ['SK DM-SNR', 'Skewness of the DM-SNR Curve'], ['Class', 'Classification - 0 or 1']]"
   ]
  },
  {
   "cell_type": "code",
   "execution_count": 9,
   "id": "a4f1ff32",
   "metadata": {},
   "outputs": [],
   "source": [
    "column_table = (tabulate(pulsar_column, headers='firstrow', tablefmt='fancy_grid'))"
   ]
  },
  {
   "cell_type": "code",
   "execution_count": 7,
   "id": "92cf21c9",
   "metadata": {},
   "outputs": [
    {
     "name": "stdout",
     "output_type": "stream",
     "text": [
      "╒════════════════╤══════════════════════════════════════════════╕\n",
      "│ Abbreviation   │ Meaning                                      │\n",
      "╞════════════════╪══════════════════════════════════════════════╡\n",
      "│ Mean IP        │ Mean of the Integrated Profile               │\n",
      "├────────────────┼──────────────────────────────────────────────┤\n",
      "│ SD IP          │ Standard Deviation of the Integrated Profile │\n",
      "├────────────────┼──────────────────────────────────────────────┤\n",
      "│ EK IP          │ Excess Kurtosis of the Integrated Profile    │\n",
      "├────────────────┼──────────────────────────────────────────────┤\n",
      "│ SK IP          │ Skewness of the Integrated Profile           │\n",
      "├────────────────┼──────────────────────────────────────────────┤\n",
      "│ Mean DM-SNR    │ Mean of the DM-SNR Curve                     │\n",
      "├────────────────┼──────────────────────────────────────────────┤\n",
      "│ SD DM-SNR      │ Standard Deviation of the DM-SNR Curve       │\n",
      "├────────────────┼──────────────────────────────────────────────┤\n",
      "│ EK DM-SNR      │ Excess Kurtosis of the DM-SNR Curve          │\n",
      "├────────────────┼──────────────────────────────────────────────┤\n",
      "│ SK DM-SNR      │ Skewness of the DM-SNR Curve                 │\n",
      "├────────────────┼──────────────────────────────────────────────┤\n",
      "│ Class          │ Classification - 0 or 1                      │\n",
      "╘════════════════╧══════════════════════════════════════════════╛\n"
     ]
    }
   ],
   "source": [
    "print(column_table)"
   ]
  },
  {
   "cell_type": "code",
   "execution_count": 30,
   "id": "483947f2",
   "metadata": {},
   "outputs": [],
   "source": []
  },
  {
   "cell_type": "markdown",
   "id": "da164656",
   "metadata": {},
   "source": [
    "[App for Predicting Pulsar Stars](https://predicting-a-pulsar-star.herokuapp.com/predict)"
   ]
  },
  {
   "cell_type": "code",
   "execution_count": null,
   "id": "36ceda0b",
   "metadata": {},
   "outputs": [],
   "source": []
  }
 ],
 "metadata": {
  "kernelspec": {
   "display_name": "Python 3",
   "language": "python",
   "name": "python3"
  },
  "language_info": {
   "codemirror_mode": {
    "name": "ipython",
    "version": 3
   },
   "file_extension": ".py",
   "mimetype": "text/x-python",
   "name": "python",
   "nbconvert_exporter": "python",
   "pygments_lexer": "ipython3",
   "version": "3.9.5"
  }
 },
 "nbformat": 4,
 "nbformat_minor": 5
}
